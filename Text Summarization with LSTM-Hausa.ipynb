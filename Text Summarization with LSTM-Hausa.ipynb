{
 "cells": [
  {
   "cell_type": "markdown",
   "id": "c54a4ca1",
   "metadata": {},
   "source": [
    "## LSTM "
   ]
  },
  {
   "cell_type": "code",
   "execution_count": 1,
   "id": "35d5abc5",
   "metadata": {},
   "outputs": [
    {
     "name": "stderr",
     "output_type": "stream",
     "text": [
      "/home/dee/anaconda3/lib/python3.8/site-packages/gensim/similarities/__init__.py:15: UserWarning: The gensim.similarities.levenshtein submodule is disabled, because the optional Levenshtein package <https://pypi.org/project/python-Levenshtein/> is unavailable. Install Levenhstein (e.g. `pip install python-Levenshtein`) to suppress this warning.\n",
      "  warnings.warn(msg)\n"
     ]
    }
   ],
   "source": [
    "## for data\n",
    "import json\n",
    "import pandas as pd\n",
    "import numpy as np\n",
    "from keras.preprocessing.text import Tokenizer\n",
    "from keras.preprocessing.sequence import pad_sequences\n",
    "from keras.models import Sequential\n",
    "from keras.layers import Embedding, SpatialDropout1D\n",
    "from keras.layers.recurrent import LSTM\n",
    "from keras.layers import Activation, Dense\n",
    "from keras.callbacks import ModelCheckpoint, EarlyStopping\n",
    "## for plotting\n",
    "import matplotlib.pyplot as plt\n",
    "import seaborn as sns\n",
    "\n",
    "## for processing\n",
    "import re\n",
    "import nltk\n",
    "from nltk.tokenize import word_tokenize\n",
    "## for bag-of-words\n",
    "from sklearn import feature_extraction, model_selection, naive_bayes, pipeline, manifold, preprocessing, feature_selection, metrics\n",
    "\n",
    "## for explainer\n",
    "from lime import lime_text\n",
    "\n",
    "## for word embedding\n",
    "import gensim\n",
    "import gensim.downloader as gensim_api\n",
    "\n",
    "## for deep learning\n",
    "from tensorflow.keras import models, layers, preprocessing as kprocessing\n",
    "from tensorflow.keras import backend as K\n",
    "\n",
    "## for bert language model\n",
    "import transformers"
   ]
  },
  {
   "cell_type": "code",
   "execution_count": 2,
   "id": "8c3ae3af",
   "metadata": {},
   "outputs": [],
   "source": [
    "df = pd.read_csv(\"hausa_newsclass/train_clean.tsv\", sep='\\t')\n",
    "df1 = pd.read_csv(\"hausa_newsclass/test.tsv\", sep='\\t')\n",
    "df2 = pd.read_csv(\"hausa_newsclass/dev.tsv\", sep='\\t')\n",
    "frames = [df, df1, df2]\n",
    "df = pd.concat(frames)"
   ]
  },
  {
   "cell_type": "code",
   "execution_count": 3,
   "id": "25c8c6e5",
   "metadata": {},
   "outputs": [
    {
     "data": {
      "text/plain": [
       "array(['Politics', 'Health', 'World', 'Nigeria', 'Africa'], dtype=object)"
      ]
     },
     "execution_count": 3,
     "metadata": {},
     "output_type": "execute_result"
    }
   ],
   "source": [
    "df['label'].unique()"
   ]
  },
  {
   "cell_type": "code",
   "execution_count": 4,
   "id": "daeda499",
   "metadata": {},
   "outputs": [
    {
     "data": {
      "text/plain": [
       "array(['Politics', 'Health', 'World', 'Nigeria', 'Africa'], dtype=object)"
      ]
     },
     "execution_count": 4,
     "metadata": {},
     "output_type": "execute_result"
    }
   ],
   "source": [
    "df['label'].unique()"
   ]
  },
  {
   "cell_type": "code",
   "execution_count": 5,
   "id": "d0fdeac3",
   "metadata": {},
   "outputs": [],
   "source": [
    "df = df.replace(\"Nigeria\", \"Politics\")\n",
    "df = df.replace(\"Africa\", \"World\")"
   ]
  },
  {
   "cell_type": "code",
   "execution_count": 6,
   "id": "45b644b2",
   "metadata": {},
   "outputs": [
    {
     "data": {
      "text/plain": [
       "array(['Politics', 'Health', 'World'], dtype=object)"
      ]
     },
     "execution_count": 6,
     "metadata": {},
     "output_type": "execute_result"
    }
   ],
   "source": [
    "df['label'].unique()"
   ]
  },
  {
   "cell_type": "code",
   "execution_count": 7,
   "id": "91c9776a",
   "metadata": {},
   "outputs": [],
   "source": [
    "'''\n",
    "Preprocess a string.\n",
    ":parameter\n",
    "    :param text: string - name of column containing text\n",
    "    :param lst_stopwords: list - list of stopwords to remove\n",
    "    :param flg_stemm: bool - whether stemming is to be applied\n",
    "    :param flg_lemm: bool - whether lemmitisation is to be applied\n",
    ":return\n",
    "    cleaned text\n",
    "'''\n",
    "def utils_preprocess_text(text, flg_stemm=False, flg_lemm=True, lst_stopwords=None):\n",
    "    ## clean (convert to lowercase and remove punctuations and characters and then strip)\n",
    "    text = re.sub(r'[^\\w\\s]', '', str(text).lower().strip())\n",
    "            \n",
    "    ## Tokenize (convert from string to list)\n",
    "    lst_text = text.split()\n",
    "    ## remove Stopwords\n",
    "    if lst_stopwords is not None:\n",
    "        lst_text = [word for word in lst_text if word not in \n",
    "                    lst_stopwords]\n",
    "                \n",
    "    ## Stemming (remove -ing, -ly, ...)\n",
    "    if flg_stemm == True:\n",
    "        ps = nltk.stem.porter.PorterStemmer()\n",
    "        lst_text = [ps.stem(word) for word in lst_text]\n",
    "                \n",
    "    ## Lemmatisation (convert the word into root word)\n",
    "    if flg_lemm == True:\n",
    "        lem = nltk.stem.wordnet.WordNetLemmatizer()\n",
    "        lst_text = [lem.lemmatize(word) for word in lst_text]\n",
    "            \n",
    "    ## back to string from list\n",
    "    no_integers = [x for x in lst_text if not (x.isdigit() or x[0] == '-' and x[1:].isdigit())]\n",
    "    text = \" \".join(no_integers)\n",
    "    return text\n",
    "\n",
    "    "
   ]
  },
  {
   "cell_type": "code",
   "execution_count": 8,
   "id": "685f4d79",
   "metadata": {},
   "outputs": [
    {
     "data": {
      "text/plain": [
       "array(['ta', 'da', 'ya', 'sai', 'ba', 'yi', 'na', 'kuma', 'ma', 'ji',\n",
       "       'cikin', 'in', 'ni', 'wata', 'wani', 'ce', 'tana', 'don', 'za',\n",
       "       'sun', 'amma', 'ga', 'ina', 'ne', 'mai', 'suka', 'wannan', 'a',\n",
       "       'ko', 'lokacin', 'su', 'take', 'shi', 'yake', 'yana', 'ka', 'ban',\n",
       "       'ita', 'tafi'], dtype=object)"
      ]
     },
     "execution_count": 8,
     "metadata": {},
     "output_type": "execute_result"
    }
   ],
   "source": [
    "#lst_stopwohttp://localhost:8888/notebooks/TEXT%20CLASSIFICATION%20PROJECT/Text%20Summarization%20with%20LSTM-Yoruba.ipynb#rds = nltk.corpus.stopwords.words(\"german\")\n",
    "#lst_stopwords\n",
    "\n",
    "#nltk.download('stopwords')\n",
    "lst_stopwords = pd.read_csv('ha.txt', header=None)\n",
    "lst_stopwords = np.array(lst_stopwords[0])\n",
    "#lst_stopwords = nltk.corpus.stopwords.words(\"english\")\n",
    "lst_stopwords"
   ]
  },
  {
   "cell_type": "code",
   "execution_count": 22,
   "id": "becf7f59",
   "metadata": {},
   "outputs": [],
   "source": [
    "#nltk.download('wordnet')\n",
    "df[\"text_clean\"] = df[\"news_title\"].apply(lambda x: \n",
    "          utils_preprocess_text(x, flg_stemm=False, flg_lemm=True, \n",
    "          lst_stopwords=lst_stopwords))\n",
    "df.to_csv('data_hausa_cleaned.csv')"
   ]
  },
  {
   "cell_type": "code",
   "execution_count": 10,
   "id": "cb02c8ce",
   "metadata": {},
   "outputs": [
    {
     "name": "stdout",
     "output_type": "stream",
     "text": [
      "Found 3783 unique tokens.\n",
      "Shape of data tensor: (2917, 250)\n"
     ]
    }
   ],
   "source": [
    "# The maximum number of words to be used. (most frequent)\n",
    "MAX_NB_WORDS = 50000\n",
    "# Max number of words in each complaint.\n",
    "MAX_SEQUENCE_LENGTH = 250\n",
    "# This is fixed.\n",
    "EMBEDDING_DIM = 100\n",
    "tokenizer = Tokenizer(num_words=MAX_NB_WORDS, filters='!\"#$%&()*+,-./:;<=>?@[\\]^_`{|}~', lower=True)\n",
    "tokenizer.fit_on_texts(df['text_clean'].values)\n",
    "word_index = tokenizer.word_index\n",
    "print('Found %s unique tokens.' % len(word_index))\n",
    "\n",
    "X = tokenizer.texts_to_sequences(df['text_clean'].values)\n",
    "X = pad_sequences(X, maxlen=MAX_SEQUENCE_LENGTH)\n",
    "print('Shape of data tensor:', X.shape)\n"
   ]
  },
  {
   "cell_type": "code",
   "execution_count": 11,
   "id": "69f8a261",
   "metadata": {},
   "outputs": [],
   "source": [
    "from sklearn.preprocessing import LabelEncoder\n",
    "lb = LabelEncoder()\n",
    "Y = lb.fit_transform(df['label'])"
   ]
  },
  {
   "cell_type": "code",
   "execution_count": 12,
   "id": "331588ad",
   "metadata": {},
   "outputs": [
    {
     "data": {
      "text/plain": [
       "array(['Health', 'Politics', 'World'], dtype=object)"
      ]
     },
     "execution_count": 12,
     "metadata": {},
     "output_type": "execute_result"
    }
   ],
   "source": [
    "lb.classes_"
   ]
  },
  {
   "cell_type": "code",
   "execution_count": 14,
   "id": "f9831d06",
   "metadata": {
    "scrolled": false
   },
   "outputs": [
    {
     "name": "stdout",
     "output_type": "stream",
     "text": [
      "(2625, 250) (2625,)\n",
      "(292, 250) (292,)\n",
      "Model: \"sequential\"\n",
      "_________________________________________________________________\n",
      "Layer (type)                 Output Shape              Param #   \n",
      "=================================================================\n",
      "embedding (Embedding)        (None, 250, 100)          5000000   \n",
      "_________________________________________________________________\n",
      "spatial_dropout1d (SpatialDr (None, 250, 100)          0         \n",
      "_________________________________________________________________\n",
      "lstm (LSTM)                  (None, 100)               80400     \n",
      "_________________________________________________________________\n",
      "dense (Dense)                (None, 13)                1313      \n",
      "=================================================================\n",
      "Total params: 5,081,713\n",
      "Trainable params: 5,081,713\n",
      "Non-trainable params: 0\n",
      "_________________________________________________________________\n",
      "None\n",
      "Epoch 1/50\n",
      "119/119 [==============================] - 48s 374ms/step - loss: 1.2032 - accuracy: 0.4407 - val_loss: 0.9817 - val_accuracy: 0.4905\n",
      "Epoch 2/50\n",
      "119/119 [==============================] - 51s 431ms/step - loss: 0.6250 - accuracy: 0.7697 - val_loss: 0.4713 - val_accuracy: 0.8327\n",
      "Epoch 3/50\n",
      "119/119 [==============================] - 51s 425ms/step - loss: 0.1864 - accuracy: 0.9403 - val_loss: 0.3528 - val_accuracy: 0.8821\n",
      "Epoch 4/50\n",
      "119/119 [==============================] - 47s 399ms/step - loss: 0.0835 - accuracy: 0.9767 - val_loss: 0.3934 - val_accuracy: 0.8479\n",
      "Epoch 5/50\n",
      "119/119 [==============================] - 48s 401ms/step - loss: 0.0458 - accuracy: 0.9886 - val_loss: 0.4909 - val_accuracy: 0.8479\n",
      "Epoch 6/50\n",
      "119/119 [==============================] - 41s 348ms/step - loss: 0.0278 - accuracy: 0.9949 - val_loss: 0.4759 - val_accuracy: 0.8631\n"
     ]
    }
   ],
   "source": [
    "#Y = pd.get_dummies(dtf['category']).values\n",
    "#print('Shape of label tensor:', Y.shape)\n",
    "\n",
    "X_train, X_test, Y_train, Y_test = model_selection.train_test_split(X,Y, test_size = 0.10, random_state = 42)\n",
    "print(X_train.shape,Y_train.shape)\n",
    "print(X_test.shape,Y_test.shape)\n",
    "\n",
    "#The first layer is the embedded layer that uses 100 length vectors to represent each word.\n",
    "#SpatialDropout1D performs variational dropout in NLP model_hausas.\n",
    "#The next layer is the LSTM layer with 100 memory units.\n",
    "#The output layer must create 13 output values, one for each class.\n",
    "#Activation function is softmax for multi-class classification.\n",
    "#Because it is a multi-class classification problem, categorical_crossentropy is used as the loss function.\n",
    "\n",
    "model_hausa = Sequential()\n",
    "model_hausa.add(Embedding(MAX_NB_WORDS, EMBEDDING_DIM, input_length=X.shape[1]))\n",
    "model_hausa.add(SpatialDropout1D(0.2))\n",
    "model_hausa.add(LSTM(100, dropout=0.2, recurrent_dropout=0.2))\n",
    "model_hausa.add(Dense(13, activation='softmax'))\n",
    "model_hausa.compile(loss='sparse_categorical_crossentropy', optimizer='adam', metrics=['accuracy'])\n",
    "print(model_hausa.summary())\n",
    "\n",
    "epochs = 50\n",
    "batch_size = 20\n",
    "\n",
    "history = model_hausa.fit(X_train, Y_train, epochs=epochs, batch_size=batch_size, validation_split=0.1, callbacks=[EarlyStopping(monitor='val_loss', patience=3, min_delta=0.0001)])"
   ]
  },
  {
   "cell_type": "code",
   "execution_count": 16,
   "id": "13b2872a",
   "metadata": {},
   "outputs": [
    {
     "name": "stdout",
     "output_type": "stream",
     "text": [
      "10/10 [==============================] - 0s 45ms/step - loss: 0.4238 - accuracy: 0.8664\n",
      "Test set\n",
      "  Loss: 0.424\n",
      "  Accuracy: 0.866\n"
     ]
    },
    {
     "data": {
      "image/png": "[encoded data removed]",
      "text/plain": [
       "<Figure size 432x288 with 1 Axes>"
      ]
     },
     "metadata": {
      "needs_background": "light"
     },
     "output_type": "display_data"
    },
    {
     "data": {
      "image/png": "[encoded data removed]",
      "text/plain": [
       "<Figure size 432x288 with 1 Axes>"
      ]
     },
     "metadata": {
      "needs_background": "light"
     },
     "output_type": "display_data"
    }
   ],
   "source": [
    "accr = model_hausa.evaluate(X_test,Y_test)\n",
    "print('Test set\\n  Loss: {:0.3f}\\n  Accuracy: {:0.3f}'.format(accr[0],accr[1]))\n",
    "\n",
    "plt.title('Loss')\n",
    "plt.plot(history.history['loss'], label='train')\n",
    "plt.plot(history.history['val_loss'], label='test')\n",
    "plt.legend()\n",
    "plt.show();\n",
    "\n",
    "plt.title('Accuracy')\n",
    "plt.plot(history.history['accuracy'], label='train')\n",
    "plt.plot(history.history['val_accuracy'], label='test')\n",
    "plt.legend()\n",
    "plt.show();"
   ]
  },
  {
   "cell_type": "code",
   "execution_count": 17,
   "id": "7b268b55",
   "metadata": {},
   "outputs": [
    {
     "data": {
      "text/plain": [
       "'yan bangar siyasa kai wa wasu kusoshin jamiyyar apc hari yola'"
      ]
     },
     "execution_count": 17,
     "metadata": {},
     "output_type": "execute_result"
    }
   ],
   "source": [
    "df['text_clean'].iloc[100]"
   ]
  },
  {
   "cell_type": "code",
   "execution_count": 18,
   "id": "ab4497ab",
   "metadata": {},
   "outputs": [
    {
     "name": "stdout",
     "output_type": "stream",
     "text": [
      "[[8.6257234e-04 9.9766433e-01 1.3891584e-03 1.3472051e-05 7.9961583e-06\n",
      "  1.1619683e-05 2.6394848e-06 7.2523799e-06 8.1196395e-06 3.4612551e-06\n",
      "  7.6768019e-06 9.8953733e-06 1.1791438e-05]] health\n"
     ]
    }
   ],
   "source": [
    "new_complaint = df['text_clean'].iloc[100]\n",
    "seq = tokenizer.texts_to_sequences([new_complaint])\n",
    "padded = pad_sequences(seq, maxlen=MAX_SEQUENCE_LENGTH)\n",
    "pred = model_hausa.predict(padded)\n",
    "labels = ['entertainment', 'health', 'politics', 'sport', 'world']\n",
    "print(pred, labels[np.argmax(pred)])\n"
   ]
  },
  {
   "cell_type": "code",
   "execution_count": 19,
   "id": "2c77d727",
   "metadata": {},
   "outputs": [],
   "source": [
    "model_hausa.save(\"model/LSTM_hausa.h5\")"
   ]
  },
  {
   "cell_type": "code",
   "execution_count": 20,
   "id": "f7089548",
   "metadata": {},
   "outputs": [],
   "source": [
    "#Load KERAS model\n",
    "from keras.models import load_model\n",
    "# load model\n",
    "model_hausa = load_model('model/LSTM_hausa.h5')"
   ]
  },
  {
   "cell_type": "code",
   "execution_count": null,
   "id": "6041b39f",
   "metadata": {},
   "outputs": [],
   "source": []
  }
 ],
 "metadata": {
  "kernelspec": {
   "display_name": "Python 3",
   "language": "python",
   "name": "python3"
  },
  "language_info": {
   "codemirror_mode": {
    "name": "ipython",
    "version": 3
   },
   "file_extension": ".py",
   "mimetype": "text/x-python",
   "name": "python",
   "nbconvert_exporter": "python",
   "pygments_lexer": "ipython3",
   "version": "3.8.8"
  }
 },
 "nbformat": 4,
 "nbformat_minor": 5
}
