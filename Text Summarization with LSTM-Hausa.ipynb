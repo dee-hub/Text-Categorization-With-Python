{
 "cells": [
  {
   "cell_type": "markdown",
   "metadata": {},
   "source": [
    "## LSTM "
   ]
  },
  {
   "cell_type": "code",
   "execution_count": 1,
   "metadata": {},
   "outputs": [
    {
     "name": "stderr",
     "output_type": "stream",
     "text": [
      "C:\\Users\\Dee\\anaconda3\\lib\\site-packages\\gensim\\similarities\\__init__.py:15: UserWarning: The gensim.similarities.levenshtein submodule is disabled, because the optional Levenshtein package <https://pypi.org/project/python-Levenshtein/> is unavailable. Install Levenhstein (e.g. `pip install python-Levenshtein`) to suppress this warning.\n",
      "  warnings.warn(msg)\n"
     ]
    }
   ],
   "source": [
    "## for data\n",
    "import json\n",
    "import pandas as pd\n",
    "import numpy as np\n",
    "from keras.preprocessing.text import Tokenizer\n",
    "from keras.preprocessing.sequence import pad_sequences\n",
    "from keras.models import Sequential\n",
    "from keras.layers import Embedding, SpatialDropout1D\n",
    "from keras.layers.recurrent import LSTM\n",
    "from keras.layers import Activation, Dense\n",
    "from keras.callbacks import ModelCheckpoint, EarlyStopping\n",
    "## for plotting\n",
    "import matplotlib.pyplot as plt\n",
    "import seaborn as sns\n",
    "\n",
    "## for processing\n",
    "import re\n",
    "import nltk\n",
    "from nltk.tokenize import word_tokenize\n",
    "## for bag-of-words\n",
    "from sklearn import feature_extraction, model_selection, naive_bayes, pipeline, manifold, preprocessing, feature_selection, metrics\n",
    "\n",
    "## for explainer\n",
    "from lime import lime_text\n",
    "\n",
    "## for word embedding\n",
    "import gensim\n",
    "import gensim.downloader as gensim_api\n",
    "\n",
    "## for deep learning\n",
    "from tensorflow.keras import models, layers, preprocessing as kprocessing\n",
    "from tensorflow.keras import backend as K\n",
    "\n",
    "## for bert language model\n",
    "import transformers"
   ]
  },
  {
   "cell_type": "code",
   "execution_count": 2,
   "metadata": {},
   "outputs": [],
   "source": [
    "df = pd.read_csv(\"hausa_newsclass/train_clean.tsv\", sep='\\t')\n",
    "df1 = pd.read_csv(\"hausa_newsclass/test.tsv\", sep='\\t')\n",
    "df2 = pd.read_csv(\"hausa_newsclass/dev.tsv\", sep='\\t')\n",
    "frames = [df, df1, df2]\n",
    "df = pd.concat(frames)"
   ]
  },
  {
   "cell_type": "code",
   "execution_count": 3,
   "metadata": {},
   "outputs": [
    {
     "data": {
      "text/plain": [
       "array(['Politics', 'Health', 'World', 'Nigeria', 'Africa'], dtype=object)"
      ]
     },
     "execution_count": 3,
     "metadata": {},
     "output_type": "execute_result"
    }
   ],
   "source": [
    "df['label'].unique()"
   ]
  },
  {
   "cell_type": "code",
   "execution_count": 4,
   "metadata": {},
   "outputs": [
    {
     "data": {
      "text/plain": [
       "array(['Politics', 'Health', 'World', 'Nigeria', 'Africa'], dtype=object)"
      ]
     },
     "execution_count": 4,
     "metadata": {},
     "output_type": "execute_result"
    }
   ],
   "source": [
    "df['label'].unique()"
   ]
  },
  {
   "cell_type": "code",
   "execution_count": 5,
   "metadata": {},
   "outputs": [],
   "source": [
    "df = df.replace(\"Nigeria\", \"Politics\")\n",
    "df = df.replace(\"Africa\", \"World\")"
   ]
  },
  {
   "cell_type": "code",
   "execution_count": 6,
   "metadata": {},
   "outputs": [
    {
     "data": {
      "text/plain": [
       "array(['Politics', 'Health', 'World'], dtype=object)"
      ]
     },
     "execution_count": 6,
     "metadata": {},
     "output_type": "execute_result"
    }
   ],
   "source": [
    "df['label'].unique()"
   ]
  },
  {
   "cell_type": "code",
   "execution_count": 7,
   "metadata": {},
   "outputs": [],
   "source": [
    "'''\n",
    "Preprocess a string.\n",
    ":parameter\n",
    "    :param text: string - name of column containing text\n",
    "    :param lst_stopwords: list - list of stopwords to remove\n",
    "    :param flg_stemm: bool - whether stemming is to be applied\n",
    "    :param flg_lemm: bool - whether lemmitisation is to be applied\n",
    ":return\n",
    "    cleaned text\n",
    "'''\n",
    "def utils_preprocess_text(text, flg_stemm=False, flg_lemm=True, lst_stopwords=None):\n",
    "    ## clean (convert to lowercase and remove punctuations and characters and then strip)\n",
    "    text = re.sub(r'[^\\w\\s]', '', str(text).lower().strip())\n",
    "            \n",
    "    ## Tokenize (convert from string to list)\n",
    "    lst_text = text.split()\n",
    "    ## remove Stopwords\n",
    "    if lst_stopwords is not None:\n",
    "        lst_text = [word for word in lst_text if word not in \n",
    "                    lst_stopwords]\n",
    "                \n",
    "    ## Stemming (remove -ing, -ly, ...)\n",
    "    if flg_stemm == True:\n",
    "        ps = nltk.stem.porter.PorterStemmer()\n",
    "        lst_text = [ps.stem(word) for word in lst_text]\n",
    "                \n",
    "    ## Lemmatisation (convert the word into root word)\n",
    "    if flg_lemm == True:\n",
    "        lem = nltk.stem.wordnet.WordNetLemmatizer()\n",
    "        lst_text = [lem.lemmatize(word) for word in lst_text]\n",
    "            \n",
    "    ## back to string from list\n",
    "    no_integers = [x for x in lst_text if not (x.isdigit() or x[0] == '-' and x[1:].isdigit())]\n",
    "    text = \" \".join(no_integers)\n",
    "    return text\n",
    "\n",
    "    "
   ]
  },
  {
   "cell_type": "code",
   "execution_count": 8,
   "metadata": {},
   "outputs": [
    {
     "data": {
      "text/plain": [
       "array(['ta', 'da', 'ya', 'sai', 'ba', 'yi', 'na', 'kuma', 'ma', 'ji',\n",
       "       'cikin', 'in', 'ni', 'wata', 'wani', 'ce', 'tana', 'don', 'za',\n",
       "       'sun', 'amma', 'ga', 'ina', 'ne', 'mai', 'suka', 'wannan', 'a',\n",
       "       'ko', 'lokacin', 'su', 'take', 'shi', 'yake', 'yana', 'ka', 'ban',\n",
       "       'ita', 'tafi'], dtype=object)"
      ]
     },
     "execution_count": 8,
     "metadata": {},
     "output_type": "execute_result"
    }
   ],
   "source": [
    "#lst_stopwohttp://localhost:8888/notebooks/TEXT%20CLASSIFICATION%20PROJECT/Text%20Summarization%20with%20LSTM-Yoruba.ipynb#rds = nltk.corpus.stopwords.words(\"german\")\n",
    "#lst_stopwords\n",
    "\n",
    "#nltk.download('stopwords')\n",
    "lst_stopwords = pd.read_csv('ha.txt', header=None)\n",
    "lst_stopwords = np.array(lst_stopwords[0])\n",
    "#lst_stopwords = nltk.corpus.stopwords.words(\"english\")\n",
    "lst_stopwords"
   ]
  },
  {
   "cell_type": "code",
   "execution_count": 9,
   "metadata": {},
   "outputs": [],
   "source": [
    "#nltk.download('wordnet')\n",
    "df[\"text_clean\"] = df[\"news_title\"].apply(lambda x: \n",
    "          utils_preprocess_text(x, flg_stemm=False, flg_lemm=True, \n",
    "          lst_stopwords=lst_stopwords))\n",
    "df.to_csv('data_hausa_cleaned.csv')"
   ]
  },
  {
   "cell_type": "code",
   "execution_count": 10,
   "metadata": {},
   "outputs": [
    {
     "name": "stdout",
     "output_type": "stream",
     "text": [
      "Found 3783 unique tokens.\n",
      "Shape of data tensor: (2917, 250)\n"
     ]
    }
   ],
   "source": [
    "# The maximum number of words to be used. (most frequent)\n",
    "MAX_NB_WORDS = 50000\n",
    "# Max number of words in each complaint.\n",
    "MAX_SEQUENCE_LENGTH = 250\n",
    "# This is fixed.\n",
    "EMBEDDING_DIM = 100\n",
    "tokenizer = Tokenizer(num_words=MAX_NB_WORDS, filters='!\"#$%&()*+,-./:;<=>?@[\\]^_`{|}~', lower=True)\n",
    "tokenizer.fit_on_texts(df['text_clean'].values)\n",
    "word_index = tokenizer.word_index\n",
    "print('Found %s unique tokens.' % len(word_index))\n",
    "\n",
    "X = tokenizer.texts_to_sequences(df['text_clean'].values)\n",
    "X = pad_sequences(X, maxlen=MAX_SEQUENCE_LENGTH)\n",
    "print('Shape of data tensor:', X.shape)\n"
   ]
  },
  {
   "cell_type": "code",
   "execution_count": 11,
   "metadata": {},
   "outputs": [],
   "source": [
    "from sklearn.preprocessing import LabelEncoder\n",
    "lb = LabelEncoder()\n",
    "Y = lb.fit_transform(df['label'])"
   ]
  },
  {
   "cell_type": "code",
   "execution_count": 12,
   "metadata": {},
   "outputs": [
    {
     "data": {
      "text/plain": [
       "array(['Health', 'Politics', 'World'], dtype=object)"
      ]
     },
     "execution_count": 12,
     "metadata": {},
     "output_type": "execute_result"
    }
   ],
   "source": [
    "lb.classes_"
   ]
  },
  {
   "cell_type": "code",
   "execution_count": 13,
   "metadata": {
    "scrolled": false
   },
   "outputs": [
    {
     "name": "stdout",
     "output_type": "stream",
     "text": [
      "(2625, 250) (2625,)\n",
      "(292, 250) (292,)\n",
      "Model: \"sequential\"\n",
      "_________________________________________________________________\n",
      "Layer (type)                 Output Shape              Param #   \n",
      "=================================================================\n",
      "embedding (Embedding)        (None, 250, 100)          5000000   \n",
      "_________________________________________________________________\n",
      "spatial_dropout1d (SpatialDr (None, 250, 100)          0         \n",
      "_________________________________________________________________\n",
      "lstm (LSTM)                  (None, 100)               80400     \n",
      "_________________________________________________________________\n",
      "dense (Dense)                (None, 13)                1313      \n",
      "=================================================================\n",
      "Total params: 5,081,713\n",
      "Trainable params: 5,081,713\n",
      "Non-trainable params: 0\n",
      "_________________________________________________________________\n",
      "None\n",
      "Epoch 1/50\n",
      "119/119 [==============================] - 98s 741ms/step - loss: 1.1984 - accuracy: 0.4365 - val_loss: 0.9645 - val_accuracy: 0.6730\n",
      "Epoch 2/50\n",
      "119/119 [==============================] - 86s 723ms/step - loss: 0.5581 - accuracy: 0.8048 - val_loss: 0.4271 - val_accuracy: 0.8403\n",
      "Epoch 3/50\n",
      "119/119 [==============================] - 87s 727ms/step - loss: 0.2058 - accuracy: 0.9327 - val_loss: 0.3598 - val_accuracy: 0.9049\n",
      "Epoch 4/50\n",
      "119/119 [==============================] - 93s 782ms/step - loss: 0.0852 - accuracy: 0.9750 - val_loss: 0.4185 - val_accuracy: 0.8631\n",
      "Epoch 5/50\n",
      "119/119 [==============================] - 87s 732ms/step - loss: 0.0480 - accuracy: 0.9848 - val_loss: 0.4408 - val_accuracy: 0.8479\n",
      "Epoch 6/50\n",
      "119/119 [==============================] - 87s 730ms/step - loss: 0.0243 - accuracy: 0.9949 - val_loss: 0.4583 - val_accuracy: 0.8517\n"
     ]
    }
   ],
   "source": [
    "#Y = pd.get_dummies(dtf['category']).values\n",
    "#print('Shape of label tensor:', Y.shape)\n",
    "\n",
    "X_train, X_test, Y_train, Y_test = model_selection.train_test_split(X,Y, test_size = 0.10, random_state = 42)\n",
    "print(X_train.shape,Y_train.shape)\n",
    "print(X_test.shape,Y_test.shape)\n",
    "\n",
    "#The first layer is the embedded layer that uses 100 length vectors to represent each word.\n",
    "#SpatialDropout1D performs variational dropout in NLP model_hausas.\n",
    "#The next layer is the LSTM layer with 100 memory units.\n",
    "#The output layer must create 13 output values, one for each class.\n",
    "#Activation function is softmax for multi-class classification.\n",
    "#Because it is a multi-class classification problem, categorical_crossentropy is used as the loss function.\n",
    "\n",
    "model_hausa = Sequential()\n",
    "model_hausa.add(Embedding(MAX_NB_WORDS, EMBEDDING_DIM, input_length=X.shape[1]))\n",
    "model_hausa.add(SpatialDropout1D(0.2))\n",
    "model_hausa.add(LSTM(100, dropout=0.2, recurrent_dropout=0.2))\n",
    "model_hausa.add(Dense(13, activation='softmax'))\n",
    "model_hausa.compile(loss='sparse_categorical_crossentropy', optimizer='adam', metrics=['accuracy'])\n",
    "print(model_hausa.summary())\n",
    "\n",
    "epochs = 50\n",
    "batch_size = 20\n",
    "\n",
    "history = model_hausa.fit(X_train, Y_train, epochs=epochs, batch_size=batch_size, validation_split=0.1, callbacks=[EarlyStopping(monitor='val_loss', patience=3, min_delta=0.0001)])"
   ]
  },
  {
   "cell_type": "code",
   "execution_count": 14,
   "metadata": {},
   "outputs": [
    {
     "name": "stdout",
     "output_type": "stream",
     "text": [
      "10/10 [==============================] - 1s 90ms/step - loss: 0.4217 - accuracy: 0.8767\n",
      "Test set\n",
      "  Loss: 0.422\n",
      "  Accuracy: 0.877\n"
     ]
    },
    {
     "data": {
      "image/png": "[encoded data removed]",
      "text/plain": [
       "<Figure size 432x288 with 1 Axes>"
      ]
     },
     "metadata": {
      "needs_background": "light"
     },
     "output_type": "display_data"
    },
    {
     "data": {
      "image/png": "[encoded data removed]",
      "text/plain": [
       "<Figure size 432x288 with 1 Axes>"
      ]
     },
     "metadata": {
      "needs_background": "light"
     },
     "output_type": "display_data"
    }
   ],
   "source": [
    "accr = model_hausa.evaluate(X_test,Y_test)\n",
    "print('Test set\\n  Loss: {:0.3f}\\n  Accuracy: {:0.3f}'.format(accr[0],accr[1]))\n",
    "\n",
    "plt.title('Loss')\n",
    "plt.plot(history.history['loss'], label='train')\n",
    "plt.plot(history.history['val_loss'], label='test')\n",
    "plt.legend()\n",
    "plt.show();\n",
    "\n",
    "plt.title('Accuracy')\n",
    "plt.plot(history.history['accuracy'], label='train')\n",
    "plt.plot(history.history['val_accuracy'], label='test')\n",
    "plt.legend()\n",
    "plt.show();"
   ]
  },
  {
   "cell_type": "code",
   "execution_count": 15,
   "metadata": {},
   "outputs": [
    {
     "data": {
      "text/plain": [
       "'yan bangar siyasa kai wa wasu kusoshin jamiyyar apc hari yola'"
      ]
     },
     "execution_count": 15,
     "metadata": {},
     "output_type": "execute_result"
    }
   ],
   "source": [
    "df['text_clean'].iloc[100]"
   ]
  },
  {
   "cell_type": "code",
   "execution_count": 16,
   "metadata": {},
   "outputs": [
    {
     "name": "stdout",
     "output_type": "stream",
     "text": [
      "[[2.7770252e-04 9.9842852e-01 1.1565273e-03 3.0098272e-06 2.8957997e-05\n",
      "  1.1261172e-05 2.4951261e-05 1.0379720e-05 1.9959962e-05 1.3085657e-05\n",
      "  9.7034235e-06 3.7813302e-06 1.2108303e-05]] health\n"
     ]
    }
   ],
   "source": [
    "new_complaint = df['text_clean'].iloc[100]\n",
    "seq = tokenizer.texts_to_sequences([new_complaint])\n",
    "padded = pad_sequences(seq, maxlen=MAX_SEQUENCE_LENGTH)\n",
    "pred = model_hausa.predict(padded)\n",
    "labels = ['entertainment', 'health', 'politics', 'sport', 'world']\n",
    "print(pred, labels[np.argmax(pred)])\n"
   ]
  },
  {
   "cell_type": "code",
   "execution_count": 17,
   "metadata": {},
   "outputs": [],
   "source": [
    "model_hausa.save(\"model/LSTM_hausa.h5\")"
   ]
  },
  {
   "cell_type": "code",
   "execution_count": 18,
   "metadata": {},
   "outputs": [],
   "source": [
    "#Load KERAS model\n",
    "from keras.models import load_model\n",
    "# load model\n",
    "model_hausa = load_model('model/LSTM_hausa.h5')"
   ]
  },
  {
   "cell_type": "code",
   "execution_count": 19,
   "metadata": {},
   "outputs": [
    {
     "name": "stdout",
     "output_type": "stream",
     "text": [
      "5/5 [==============================] - 2s 130ms/step\n",
      "              precision    recall  f1-score   support\n",
      "\n",
      "           0       0.89      0.97      0.93        67\n",
      "           1       0.81      0.89      0.85        99\n",
      "           2       0.93      0.82      0.87       126\n",
      "\n",
      "    accuracy                           0.88       292\n",
      "   macro avg       0.88      0.89      0.88       292\n",
      "weighted avg       0.88      0.88      0.88       292\n",
      "\n"
     ]
    }
   ],
   "source": [
    "from sklearn.metrics import classification_report\n",
    "\n",
    "y_pred = model_hausa.predict(X_test, batch_size=64, verbose=1)\n",
    "y_pred_bool = np.argmax(y_pred, axis=1)\n",
    "\n",
    "print(classification_report(Y_test, y_pred_bool))"
   ]
  },
  {
   "cell_type": "code",
   "execution_count": 20,
   "metadata": {},
   "outputs": [
    {
     "data": {
      "text/plain": [
       "array(['Health', 'Politics', 'World'], dtype=object)"
      ]
     },
     "execution_count": 20,
     "metadata": {},
     "output_type": "execute_result"
    }
   ],
   "source": [
    "lb.classes_"
   ]
  },
  {
   "cell_type": "code",
   "execution_count": 21,
   "metadata": {},
   "outputs": [
    {
     "data": {
      "text/html": [
       "<div>\n",
       "<style scoped>\n",
       "    .dataframe tbody tr th:only-of-type {\n",
       "        vertical-align: middle;\n",
       "    }\n",
       "\n",
       "    .dataframe tbody tr th {\n",
       "        vertical-align: top;\n",
       "    }\n",
       "\n",
       "    .dataframe thead th {\n",
       "        text-align: right;\n",
       "    }\n",
       "</style>\n",
       "<table border=\"1\" class=\"dataframe\">\n",
       "  <thead>\n",
       "    <tr style=\"text-align: right;\">\n",
       "      <th></th>\n",
       "      <th>news_title</th>\n",
       "      <th>label</th>\n",
       "      <th>text_clean</th>\n",
       "    </tr>\n",
       "  </thead>\n",
       "  <tbody>\n",
       "    <tr>\n",
       "      <th>0</th>\n",
       "      <td>Atiku Abubakar Ya Kada Kuri'arsa A Jimeta A Ji...</td>\n",
       "      <td>Politics</td>\n",
       "      <td>atiku abubakar kada kuriarsa jimeta jihar adamawa</td>\n",
       "    </tr>\n",
       "    <tr>\n",
       "      <th>1</th>\n",
       "      <td>Kimanin mata dubu hamsin da biyar suke mutuwa ...</td>\n",
       "      <td>Health</td>\n",
       "      <td>kimanin mata dubu hamsin biyar suke mutuwa she...</td>\n",
       "    </tr>\n",
       "    <tr>\n",
       "      <th>2</th>\n",
       "      <td>Afghanistan: Masu Fashin Baki Sun Nuna Shakku ...</td>\n",
       "      <td>World</td>\n",
       "      <td>afghanistan masu fashin baki nuna shakku kan y...</td>\n",
       "    </tr>\n",
       "    <tr>\n",
       "      <th>3</th>\n",
       "      <td>Gwamnatin Kaduna Ta Gindaya Sharuddan Jinyar E...</td>\n",
       "      <td>Politics</td>\n",
       "      <td>gwamnatin kaduna gindaya sharuddan jinyar elza...</td>\n",
       "    </tr>\n",
       "    <tr>\n",
       "      <th>4</th>\n",
       "      <td>An Fara Yi Wa Jami’an Tsaron Najeriya Binciken...</td>\n",
       "      <td>Politics</td>\n",
       "      <td>an fara wa jamian tsaron najeriya binciken kwa...</td>\n",
       "    </tr>\n",
       "    <tr>\n",
       "      <th>...</th>\n",
       "      <td>...</td>\n",
       "      <td>...</td>\n",
       "      <td>...</td>\n",
       "    </tr>\n",
       "    <tr>\n",
       "      <th>285</th>\n",
       "      <td>Yadda Karin Albashi Ke Shafar Farashin Kayayyaki</td>\n",
       "      <td>Politics</td>\n",
       "      <td>yadda karin albashi ke shafar farashin kayayyaki</td>\n",
       "    </tr>\n",
       "    <tr>\n",
       "      <th>286</th>\n",
       "      <td>Ambaliyar Ruwan Tsunami Ta yi Barna A Indonesia</td>\n",
       "      <td>World</td>\n",
       "      <td>ambaliyar ruwan tsunami barna indonesia</td>\n",
       "    </tr>\n",
       "    <tr>\n",
       "      <th>287</th>\n",
       "      <td>Nigeriya Zata Sami Dala Biliyan Daya Daga Maga...</td>\n",
       "      <td>World</td>\n",
       "      <td>nigeriya zata sami dala biliyan daya daga maga...</td>\n",
       "    </tr>\n",
       "    <tr>\n",
       "      <th>288</th>\n",
       "      <td>Gwamnatin Kamaru Ta Tsare Sojoji 7 Da Ake Zarg...</td>\n",
       "      <td>World</td>\n",
       "      <td>gwamnatin kamaru tsare sojoji ake zargi kashe ...</td>\n",
       "    </tr>\n",
       "    <tr>\n",
       "      <th>289</th>\n",
       "      <td>Shin Ganduje Ya Karbi Cinhanci Ko A'a?</td>\n",
       "      <td>Politics</td>\n",
       "      <td>shin ganduje karbi cinhanci aa</td>\n",
       "    </tr>\n",
       "  </tbody>\n",
       "</table>\n",
       "<p>2917 rows × 3 columns</p>\n",
       "</div>"
      ],
      "text/plain": [
       "                                            news_title     label  \\\n",
       "0    Atiku Abubakar Ya Kada Kuri'arsa A Jimeta A Ji...  Politics   \n",
       "1    Kimanin mata dubu hamsin da biyar suke mutuwa ...    Health   \n",
       "2    Afghanistan: Masu Fashin Baki Sun Nuna Shakku ...     World   \n",
       "3    Gwamnatin Kaduna Ta Gindaya Sharuddan Jinyar E...  Politics   \n",
       "4    An Fara Yi Wa Jami’an Tsaron Najeriya Binciken...  Politics   \n",
       "..                                                 ...       ...   \n",
       "285   Yadda Karin Albashi Ke Shafar Farashin Kayayyaki  Politics   \n",
       "286    Ambaliyar Ruwan Tsunami Ta yi Barna A Indonesia     World   \n",
       "287  Nigeriya Zata Sami Dala Biliyan Daya Daga Maga...     World   \n",
       "288  Gwamnatin Kamaru Ta Tsare Sojoji 7 Da Ake Zarg...     World   \n",
       "289             Shin Ganduje Ya Karbi Cinhanci Ko A'a?  Politics   \n",
       "\n",
       "                                            text_clean  \n",
       "0    atiku abubakar kada kuriarsa jimeta jihar adamawa  \n",
       "1    kimanin mata dubu hamsin biyar suke mutuwa she...  \n",
       "2    afghanistan masu fashin baki nuna shakku kan y...  \n",
       "3    gwamnatin kaduna gindaya sharuddan jinyar elza...  \n",
       "4    an fara wa jamian tsaron najeriya binciken kwa...  \n",
       "..                                                 ...  \n",
       "285   yadda karin albashi ke shafar farashin kayayyaki  \n",
       "286            ambaliyar ruwan tsunami barna indonesia  \n",
       "287  nigeriya zata sami dala biliyan daya daga maga...  \n",
       "288  gwamnatin kamaru tsare sojoji ake zargi kashe ...  \n",
       "289                     shin ganduje karbi cinhanci aa  \n",
       "\n",
       "[2917 rows x 3 columns]"
      ]
     },
     "execution_count": 21,
     "metadata": {},
     "output_type": "execute_result"
    }
   ],
   "source": [
    "df"
   ]
  },
  {
   "cell_type": "code",
   "execution_count": null,
   "metadata": {},
   "outputs": [],
   "source": [
    "#Source of the dataset\n",
    "#"
   ]
  }
 ],
 "metadata": {
  "kernelspec": {
   "display_name": "Python 3",
   "language": "python",
   "name": "python3"
  },
  "language_info": {
   "codemirror_mode": {
    "name": "ipython",
    "version": 3
   },
   "file_extension": ".py",
   "mimetype": "text/x-python",
   "name": "python",
   "nbconvert_exporter": "python",
   "pygments_lexer": "ipython3",
   "version": "3.8.5"
  }
 },
 "nbformat": 4,
 "nbformat_minor": 5
}
