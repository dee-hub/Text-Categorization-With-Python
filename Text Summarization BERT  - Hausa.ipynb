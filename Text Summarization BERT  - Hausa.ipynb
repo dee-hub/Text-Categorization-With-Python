{
 "cells": [
  {
   "cell_type": "markdown",
   "metadata": {},
   "source": [
    "## BERT"
   ]
  },
  {
   "cell_type": "code",
   "execution_count": 1,
   "metadata": {},
   "outputs": [
    {
     "name": "stderr",
     "output_type": "stream",
     "text": [
      "C:\\Users\\Dee\\anaconda3\\lib\\site-packages\\gensim\\similarities\\__init__.py:15: UserWarning: The gensim.similarities.levenshtein submodule is disabled, because the optional Levenshtein package <https://pypi.org/project/python-Levenshtein/> is unavailable. Install Levenhstein (e.g. `pip install python-Levenshtein`) to suppress this warning.\n",
      "  warnings.warn(msg)\n"
     ]
    }
   ],
   "source": [
    "import pandas as pd\n",
    "## for data\n",
    "import json\n",
    "import pandas as pd\n",
    "import numpy as np\n",
    "from keras.preprocessing.text import Tokenizer\n",
    "from keras.preprocessing.sequence import pad_sequences\n",
    "from keras.models import Sequential\n",
    "from keras.layers import Embedding, SpatialDropout1D\n",
    "from keras.layers.recurrent import LSTM\n",
    "from keras.layers import Activation, Dense\n",
    "from keras.callbacks import ModelCheckpoint, EarlyStopping\n",
    "## for plotting\n",
    "import matplotlib.pyplot as plt\n",
    "import seaborn as sns\n",
    "\n",
    "## for processing\n",
    "import re\n",
    "import nltk\n",
    "from nltk.tokenize import word_tokenize\n",
    "## for bag-of-words\n",
    "from sklearn import feature_extraction, model_selection, naive_bayes, pipeline, manifold, preprocessing, feature_selection, metrics\n",
    "\n",
    "## for explainer\n",
    "from lime import lime_text\n",
    "\n",
    "## for word embedding\n",
    "import gensim\n",
    "import gensim.downloader as gensim_api\n",
    "\n",
    "## for deep learning\n",
    "from tensorflow.keras import models, layers, preprocessing as kprocessing\n",
    "from tensorflow.keras import backend as K\n",
    "\n",
    "## for bert language model\n",
    "import transformers"
   ]
  },
  {
   "cell_type": "code",
   "execution_count": 2,
   "metadata": {},
   "outputs": [],
   "source": [
    "dtf_new = pd.read_csv(\"data/data_hausa_cleaned.csv\")"
   ]
  },
  {
   "cell_type": "code",
   "execution_count": 3,
   "metadata": {},
   "outputs": [],
   "source": [
    "dtf_new = dtf_new.rename(columns={'label': 'labels', 'text_clean': 'text'})"
   ]
  },
  {
   "cell_type": "code",
   "execution_count": 4,
   "metadata": {},
   "outputs": [
    {
     "data": {
      "text/html": [
       "<div>\n",
       "<style scoped>\n",
       "    .dataframe tbody tr th:only-of-type {\n",
       "        vertical-align: middle;\n",
       "    }\n",
       "\n",
       "    .dataframe tbody tr th {\n",
       "        vertical-align: top;\n",
       "    }\n",
       "\n",
       "    .dataframe thead th {\n",
       "        text-align: right;\n",
       "    }\n",
       "</style>\n",
       "<table border=\"1\" class=\"dataframe\">\n",
       "  <thead>\n",
       "    <tr style=\"text-align: right;\">\n",
       "      <th></th>\n",
       "      <th>Unnamed: 0</th>\n",
       "      <th>news_title</th>\n",
       "      <th>labels</th>\n",
       "      <th>text</th>\n",
       "    </tr>\n",
       "  </thead>\n",
       "  <tbody>\n",
       "    <tr>\n",
       "      <th>0</th>\n",
       "      <td>0</td>\n",
       "      <td>Atiku Abubakar Ya Kada Kuri'arsa A Jimeta A Ji...</td>\n",
       "      <td>Politics</td>\n",
       "      <td>atiku abubakar kada kuriarsa jimeta jihar adamawa</td>\n",
       "    </tr>\n",
       "    <tr>\n",
       "      <th>1</th>\n",
       "      <td>1</td>\n",
       "      <td>Kimanin mata dubu hamsin da biyar suke mutuwa ...</td>\n",
       "      <td>Health</td>\n",
       "      <td>kimanin mata dubu hamsin biyar suke mutuwa she...</td>\n",
       "    </tr>\n",
       "    <tr>\n",
       "      <th>2</th>\n",
       "      <td>2</td>\n",
       "      <td>Afghanistan: Masu Fashin Baki Sun Nuna Shakku ...</td>\n",
       "      <td>World</td>\n",
       "      <td>afghanistan masu fashin baki nuna shakku kan y...</td>\n",
       "    </tr>\n",
       "    <tr>\n",
       "      <th>3</th>\n",
       "      <td>3</td>\n",
       "      <td>Gwamnatin Kaduna Ta Gindaya Sharuddan Jinyar E...</td>\n",
       "      <td>Politics</td>\n",
       "      <td>gwamnatin kaduna gindaya sharuddan jinyar elza...</td>\n",
       "    </tr>\n",
       "    <tr>\n",
       "      <th>4</th>\n",
       "      <td>4</td>\n",
       "      <td>An Fara Yi Wa Jami’an Tsaron Najeriya Binciken...</td>\n",
       "      <td>Politics</td>\n",
       "      <td>an fara wa jamian tsaron najeriya binciken kwa...</td>\n",
       "    </tr>\n",
       "    <tr>\n",
       "      <th>...</th>\n",
       "      <td>...</td>\n",
       "      <td>...</td>\n",
       "      <td>...</td>\n",
       "      <td>...</td>\n",
       "    </tr>\n",
       "    <tr>\n",
       "      <th>2912</th>\n",
       "      <td>285</td>\n",
       "      <td>Yadda Karin Albashi Ke Shafar Farashin Kayayyaki</td>\n",
       "      <td>Politics</td>\n",
       "      <td>yadda karin albashi ke shafar farashin kayayyaki</td>\n",
       "    </tr>\n",
       "    <tr>\n",
       "      <th>2913</th>\n",
       "      <td>286</td>\n",
       "      <td>Ambaliyar Ruwan Tsunami Ta yi Barna A Indonesia</td>\n",
       "      <td>World</td>\n",
       "      <td>ambaliyar ruwan tsunami barna indonesia</td>\n",
       "    </tr>\n",
       "    <tr>\n",
       "      <th>2914</th>\n",
       "      <td>287</td>\n",
       "      <td>Nigeriya Zata Sami Dala Biliyan Daya Daga Maga...</td>\n",
       "      <td>World</td>\n",
       "      <td>nigeriya zata sami dala biliyan daya daga maga...</td>\n",
       "    </tr>\n",
       "    <tr>\n",
       "      <th>2915</th>\n",
       "      <td>288</td>\n",
       "      <td>Gwamnatin Kamaru Ta Tsare Sojoji 7 Da Ake Zarg...</td>\n",
       "      <td>World</td>\n",
       "      <td>gwamnatin kamaru tsare sojoji ake zargi kashe ...</td>\n",
       "    </tr>\n",
       "    <tr>\n",
       "      <th>2916</th>\n",
       "      <td>289</td>\n",
       "      <td>Shin Ganduje Ya Karbi Cinhanci Ko A'a?</td>\n",
       "      <td>Politics</td>\n",
       "      <td>shin ganduje karbi cinhanci aa</td>\n",
       "    </tr>\n",
       "  </tbody>\n",
       "</table>\n",
       "<p>2917 rows × 4 columns</p>\n",
       "</div>"
      ],
      "text/plain": [
       "      Unnamed: 0                                         news_title    labels  \\\n",
       "0              0  Atiku Abubakar Ya Kada Kuri'arsa A Jimeta A Ji...  Politics   \n",
       "1              1  Kimanin mata dubu hamsin da biyar suke mutuwa ...    Health   \n",
       "2              2  Afghanistan: Masu Fashin Baki Sun Nuna Shakku ...     World   \n",
       "3              3  Gwamnatin Kaduna Ta Gindaya Sharuddan Jinyar E...  Politics   \n",
       "4              4  An Fara Yi Wa Jami’an Tsaron Najeriya Binciken...  Politics   \n",
       "...          ...                                                ...       ...   \n",
       "2912         285   Yadda Karin Albashi Ke Shafar Farashin Kayayyaki  Politics   \n",
       "2913         286    Ambaliyar Ruwan Tsunami Ta yi Barna A Indonesia     World   \n",
       "2914         287  Nigeriya Zata Sami Dala Biliyan Daya Daga Maga...     World   \n",
       "2915         288  Gwamnatin Kamaru Ta Tsare Sojoji 7 Da Ake Zarg...     World   \n",
       "2916         289             Shin Ganduje Ya Karbi Cinhanci Ko A'a?  Politics   \n",
       "\n",
       "                                                   text  \n",
       "0     atiku abubakar kada kuriarsa jimeta jihar adamawa  \n",
       "1     kimanin mata dubu hamsin biyar suke mutuwa she...  \n",
       "2     afghanistan masu fashin baki nuna shakku kan y...  \n",
       "3     gwamnatin kaduna gindaya sharuddan jinyar elza...  \n",
       "4     an fara wa jamian tsaron najeriya binciken kwa...  \n",
       "...                                                 ...  \n",
       "2912   yadda karin albashi ke shafar farashin kayayyaki  \n",
       "2913            ambaliyar ruwan tsunami barna indonesia  \n",
       "2914  nigeriya zata sami dala biliyan daya daga maga...  \n",
       "2915  gwamnatin kamaru tsare sojoji ake zargi kashe ...  \n",
       "2916                     shin ganduje karbi cinhanci aa  \n",
       "\n",
       "[2917 rows x 4 columns]"
      ]
     },
     "execution_count": 4,
     "metadata": {},
     "output_type": "execute_result"
    }
   ],
   "source": [
    "dtf_new"
   ]
  },
  {
   "cell_type": "code",
   "execution_count": 5,
   "metadata": {},
   "outputs": [],
   "source": [
    "data = dtf_new.drop([\"Unnamed: 0\", \"news_title\"], axis=1)"
   ]
  },
  {
   "cell_type": "code",
   "execution_count": 6,
   "metadata": {},
   "outputs": [
    {
     "data": {
      "text/html": [
       "<div>\n",
       "<style scoped>\n",
       "    .dataframe tbody tr th:only-of-type {\n",
       "        vertical-align: middle;\n",
       "    }\n",
       "\n",
       "    .dataframe tbody tr th {\n",
       "        vertical-align: top;\n",
       "    }\n",
       "\n",
       "    .dataframe thead th {\n",
       "        text-align: right;\n",
       "    }\n",
       "</style>\n",
       "<table border=\"1\" class=\"dataframe\">\n",
       "  <thead>\n",
       "    <tr style=\"text-align: right;\">\n",
       "      <th></th>\n",
       "      <th>labels</th>\n",
       "      <th>text</th>\n",
       "    </tr>\n",
       "  </thead>\n",
       "  <tbody>\n",
       "    <tr>\n",
       "      <th>0</th>\n",
       "      <td>Politics</td>\n",
       "      <td>atiku abubakar kada kuriarsa jimeta jihar adamawa</td>\n",
       "    </tr>\n",
       "    <tr>\n",
       "      <th>1</th>\n",
       "      <td>Health</td>\n",
       "      <td>kimanin mata dubu hamsin biyar suke mutuwa she...</td>\n",
       "    </tr>\n",
       "    <tr>\n",
       "      <th>2</th>\n",
       "      <td>World</td>\n",
       "      <td>afghanistan masu fashin baki nuna shakku kan y...</td>\n",
       "    </tr>\n",
       "    <tr>\n",
       "      <th>3</th>\n",
       "      <td>Politics</td>\n",
       "      <td>gwamnatin kaduna gindaya sharuddan jinyar elza...</td>\n",
       "    </tr>\n",
       "    <tr>\n",
       "      <th>4</th>\n",
       "      <td>Politics</td>\n",
       "      <td>an fara wa jamian tsaron najeriya binciken kwa...</td>\n",
       "    </tr>\n",
       "    <tr>\n",
       "      <th>...</th>\n",
       "      <td>...</td>\n",
       "      <td>...</td>\n",
       "    </tr>\n",
       "    <tr>\n",
       "      <th>2912</th>\n",
       "      <td>Politics</td>\n",
       "      <td>yadda karin albashi ke shafar farashin kayayyaki</td>\n",
       "    </tr>\n",
       "    <tr>\n",
       "      <th>2913</th>\n",
       "      <td>World</td>\n",
       "      <td>ambaliyar ruwan tsunami barna indonesia</td>\n",
       "    </tr>\n",
       "    <tr>\n",
       "      <th>2914</th>\n",
       "      <td>World</td>\n",
       "      <td>nigeriya zata sami dala biliyan daya daga maga...</td>\n",
       "    </tr>\n",
       "    <tr>\n",
       "      <th>2915</th>\n",
       "      <td>World</td>\n",
       "      <td>gwamnatin kamaru tsare sojoji ake zargi kashe ...</td>\n",
       "    </tr>\n",
       "    <tr>\n",
       "      <th>2916</th>\n",
       "      <td>Politics</td>\n",
       "      <td>shin ganduje karbi cinhanci aa</td>\n",
       "    </tr>\n",
       "  </tbody>\n",
       "</table>\n",
       "<p>2917 rows × 2 columns</p>\n",
       "</div>"
      ],
      "text/plain": [
       "        labels                                               text\n",
       "0     Politics  atiku abubakar kada kuriarsa jimeta jihar adamawa\n",
       "1       Health  kimanin mata dubu hamsin biyar suke mutuwa she...\n",
       "2        World  afghanistan masu fashin baki nuna shakku kan y...\n",
       "3     Politics  gwamnatin kaduna gindaya sharuddan jinyar elza...\n",
       "4     Politics  an fara wa jamian tsaron najeriya binciken kwa...\n",
       "...        ...                                                ...\n",
       "2912  Politics   yadda karin albashi ke shafar farashin kayayyaki\n",
       "2913     World            ambaliyar ruwan tsunami barna indonesia\n",
       "2914     World  nigeriya zata sami dala biliyan daya daga maga...\n",
       "2915     World  gwamnatin kamaru tsare sojoji ake zargi kashe ...\n",
       "2916  Politics                     shin ganduje karbi cinhanci aa\n",
       "\n",
       "[2917 rows x 2 columns]"
      ]
     },
     "execution_count": 6,
     "metadata": {},
     "output_type": "execute_result"
    }
   ],
   "source": [
    "data"
   ]
  },
  {
   "cell_type": "code",
   "execution_count": 7,
   "metadata": {},
   "outputs": [],
   "source": [
    "from sklearn.preprocessing import LabelEncoder\n",
    "\n",
    "lb = LabelEncoder()\n",
    "data[\"labels\"] = lb.fit_transform(dtf_new[\"labels\"])"
   ]
  },
  {
   "cell_type": "code",
   "execution_count": 8,
   "metadata": {},
   "outputs": [
    {
     "data": {
      "text/html": [
       "<div>\n",
       "<style scoped>\n",
       "    .dataframe tbody tr th:only-of-type {\n",
       "        vertical-align: middle;\n",
       "    }\n",
       "\n",
       "    .dataframe tbody tr th {\n",
       "        vertical-align: top;\n",
       "    }\n",
       "\n",
       "    .dataframe thead th {\n",
       "        text-align: right;\n",
       "    }\n",
       "</style>\n",
       "<table border=\"1\" class=\"dataframe\">\n",
       "  <thead>\n",
       "    <tr style=\"text-align: right;\">\n",
       "      <th></th>\n",
       "      <th>labels</th>\n",
       "      <th>text</th>\n",
       "    </tr>\n",
       "  </thead>\n",
       "  <tbody>\n",
       "    <tr>\n",
       "      <th>0</th>\n",
       "      <td>1</td>\n",
       "      <td>atiku abubakar kada kuriarsa jimeta jihar adamawa</td>\n",
       "    </tr>\n",
       "    <tr>\n",
       "      <th>1</th>\n",
       "      <td>0</td>\n",
       "      <td>kimanin mata dubu hamsin biyar suke mutuwa she...</td>\n",
       "    </tr>\n",
       "    <tr>\n",
       "      <th>2</th>\n",
       "      <td>2</td>\n",
       "      <td>afghanistan masu fashin baki nuna shakku kan y...</td>\n",
       "    </tr>\n",
       "    <tr>\n",
       "      <th>3</th>\n",
       "      <td>1</td>\n",
       "      <td>gwamnatin kaduna gindaya sharuddan jinyar elza...</td>\n",
       "    </tr>\n",
       "    <tr>\n",
       "      <th>4</th>\n",
       "      <td>1</td>\n",
       "      <td>an fara wa jamian tsaron najeriya binciken kwa...</td>\n",
       "    </tr>\n",
       "    <tr>\n",
       "      <th>...</th>\n",
       "      <td>...</td>\n",
       "      <td>...</td>\n",
       "    </tr>\n",
       "    <tr>\n",
       "      <th>2912</th>\n",
       "      <td>1</td>\n",
       "      <td>yadda karin albashi ke shafar farashin kayayyaki</td>\n",
       "    </tr>\n",
       "    <tr>\n",
       "      <th>2913</th>\n",
       "      <td>2</td>\n",
       "      <td>ambaliyar ruwan tsunami barna indonesia</td>\n",
       "    </tr>\n",
       "    <tr>\n",
       "      <th>2914</th>\n",
       "      <td>2</td>\n",
       "      <td>nigeriya zata sami dala biliyan daya daga maga...</td>\n",
       "    </tr>\n",
       "    <tr>\n",
       "      <th>2915</th>\n",
       "      <td>2</td>\n",
       "      <td>gwamnatin kamaru tsare sojoji ake zargi kashe ...</td>\n",
       "    </tr>\n",
       "    <tr>\n",
       "      <th>2916</th>\n",
       "      <td>1</td>\n",
       "      <td>shin ganduje karbi cinhanci aa</td>\n",
       "    </tr>\n",
       "  </tbody>\n",
       "</table>\n",
       "<p>2917 rows × 2 columns</p>\n",
       "</div>"
      ],
      "text/plain": [
       "      labels                                               text\n",
       "0          1  atiku abubakar kada kuriarsa jimeta jihar adamawa\n",
       "1          0  kimanin mata dubu hamsin biyar suke mutuwa she...\n",
       "2          2  afghanistan masu fashin baki nuna shakku kan y...\n",
       "3          1  gwamnatin kaduna gindaya sharuddan jinyar elza...\n",
       "4          1  an fara wa jamian tsaron najeriya binciken kwa...\n",
       "...      ...                                                ...\n",
       "2912       1   yadda karin albashi ke shafar farashin kayayyaki\n",
       "2913       2            ambaliyar ruwan tsunami barna indonesia\n",
       "2914       2  nigeriya zata sami dala biliyan daya daga maga...\n",
       "2915       2  gwamnatin kamaru tsare sojoji ake zargi kashe ...\n",
       "2916       1                     shin ganduje karbi cinhanci aa\n",
       "\n",
       "[2917 rows x 2 columns]"
      ]
     },
     "execution_count": 8,
     "metadata": {},
     "output_type": "execute_result"
    }
   ],
   "source": [
    "data"
   ]
  },
  {
   "cell_type": "code",
   "execution_count": 9,
   "metadata": {},
   "outputs": [
    {
     "data": {
      "text/plain": [
       "array(['Health', 'Politics', 'World'], dtype=object)"
      ]
     },
     "execution_count": 9,
     "metadata": {},
     "output_type": "execute_result"
    }
   ],
   "source": [
    "lb.classes_"
   ]
  },
  {
   "cell_type": "code",
   "execution_count": 10,
   "metadata": {},
   "outputs": [
    {
     "data": {
      "text/plain": [
       "0       1\n",
       "1       0\n",
       "2       2\n",
       "3       1\n",
       "4       1\n",
       "       ..\n",
       "2912    1\n",
       "2913    2\n",
       "2914    2\n",
       "2915    2\n",
       "2916    1\n",
       "Name: labels, Length: 2917, dtype: int32"
      ]
     },
     "execution_count": 10,
     "metadata": {},
     "output_type": "execute_result"
    }
   ],
   "source": [
    "data['labels']"
   ]
  },
  {
   "cell_type": "code",
   "execution_count": 11,
   "metadata": {},
   "outputs": [],
   "source": [
    "X = data"
   ]
  },
  {
   "cell_type": "code",
   "execution_count": null,
   "metadata": {},
   "outputs": [],
   "source": []
  },
  {
   "cell_type": "code",
   "execution_count": 12,
   "metadata": {},
   "outputs": [
    {
     "name": "stdout",
     "output_type": "stream",
     "text": [
      "(1750, 2)\n",
      "(1167, 2)\n"
     ]
    }
   ],
   "source": [
    "X_train, X_test = model_selection.train_test_split(X, test_size = 0.40, random_state = 42)\n",
    "print(X_train.shape)\n",
    "print(X_test.shape)"
   ]
  },
  {
   "cell_type": "code",
   "execution_count": 13,
   "metadata": {},
   "outputs": [
    {
     "name": "stderr",
     "output_type": "stream",
     "text": [
      "Some weights of the model checkpoint at bert-base-cased were not used when initializing BertForSequenceClassification: ['cls.predictions.transform.LayerNorm.weight', 'cls.predictions.transform.dense.bias', 'cls.predictions.decoder.weight', 'cls.predictions.bias', 'cls.seq_relationship.bias', 'cls.predictions.transform.dense.weight', 'cls.predictions.transform.LayerNorm.bias', 'cls.seq_relationship.weight']\n",
      "- This IS expected if you are initializing BertForSequenceClassification from the checkpoint of a model trained on another task or with another architecture (e.g. initializing a BertForSequenceClassification model from a BertForPreTraining model).\n",
      "- This IS NOT expected if you are initializing BertForSequenceClassification from the checkpoint of a model that you expect to be exactly identical (initializing a BertForSequenceClassification model from a BertForSequenceClassification model).\n",
      "Some weights of BertForSequenceClassification were not initialized from the model checkpoint at bert-base-cased and are newly initialized: ['classifier.weight', 'classifier.bias']\n",
      "You should probably TRAIN this model on a down-stream task to be able to use it for predictions and inference.\n"
     ]
    },
    {
     "data": {
      "application/vnd.jupyter.widget-view+json": {
       "model_id": "e652306d1ecf4eb9bd14a78d146c3c25",
       "version_major": 2,
       "version_minor": 0
      },
      "text/plain": [
       "  0%|          | 0/1750 [00:00<?, ?it/s]"
      ]
     },
     "metadata": {},
     "output_type": "display_data"
    },
    {
     "data": {
      "application/vnd.jupyter.widget-view+json": {
       "model_id": "af6fd03d3c764152bf69e2be90152510",
       "version_major": 2,
       "version_minor": 0
      },
      "text/plain": [
       "Epoch:   0%|          | 0/1 [00:00<?, ?it/s]"
      ]
     },
     "metadata": {},
     "output_type": "display_data"
    },
    {
     "data": {
      "application/vnd.jupyter.widget-view+json": {
       "model_id": "ede924fc558c4293b6602e95b1ca44c4",
       "version_major": 2,
       "version_minor": 0
      },
      "text/plain": [
       "Running Epoch 0 of 1:   0%|          | 0/219 [00:00<?, ?it/s]"
      ]
     },
     "metadata": {},
     "output_type": "display_data"
    },
    {
     "data": {
      "application/vnd.jupyter.widget-view+json": {
       "model_id": "fff4203b59a54d8ab6b6a7ab7b52ec5f",
       "version_major": 2,
       "version_minor": 0
      },
      "text/plain": [
       "  0%|          | 0/1167 [00:00<?, ?it/s]"
      ]
     },
     "metadata": {},
     "output_type": "display_data"
    },
    {
     "data": {
      "application/vnd.jupyter.widget-view+json": {
       "model_id": "827bf21abe5f419ba73920184841d5fb",
       "version_major": 2,
       "version_minor": 0
      },
      "text/plain": [
       "Running Evaluation:   0%|          | 0/146 [00:00<?, ?it/s]"
      ]
     },
     "metadata": {},
     "output_type": "display_data"
    },
    {
     "data": {
      "application/vnd.jupyter.widget-view+json": {
       "model_id": "0bf8e00d03de40fc868df5e7452ec234",
       "version_major": 2,
       "version_minor": 0
      },
      "text/plain": [
       "  0%|          | 0/1 [00:00<?, ?it/s]"
      ]
     },
     "metadata": {},
     "output_type": "display_data"
    },
    {
     "data": {
      "application/vnd.jupyter.widget-view+json": {
       "model_id": "5b4c863012d84085b9760c94d8ec973b",
       "version_major": 2,
       "version_minor": 0
      },
      "text/plain": [
       "  0%|          | 0/1 [00:00<?, ?it/s]"
      ]
     },
     "metadata": {},
     "output_type": "display_data"
    }
   ],
   "source": [
    "import pandas as pd\n",
    "\n",
    "from simpletransformers.classification import ClassificationModel\n",
    "\n",
    "# Train and Evaluation data needs to be in a Pandas Dataframe containing at least two columns. \n",
    "#If the Dataframe has a header, it should contain a 'text' and a 'labels' column. \n",
    "#If no header is present, the Dataframe should contain at least two columns, \n",
    "#with the first column is the text with type str, and the second column in the label with type int.\n",
    "train_data = [\n",
    "    [\"Example sentence belonging to class 1\", 1],\n",
    "    [\"Example sentence belonging to class 0\", 0],\n",
    "    [\"Example eval senntence belonging to class 2\", 2],\n",
    "]\n",
    "train_df = pd.DataFrame(train_data)\n",
    "\n",
    "eval_data = [\n",
    "    [\"Example eval sentence belonging to class 1\", 1],\n",
    "    [\"Example eval sentence belonging to class 0\", 0],\n",
    "    [\"Example eval senntence belonging to class 2\", 2],\n",
    "]\n",
    "eval_df = pd.DataFrame(eval_data)\n",
    "\n",
    "# Create a ClassificationModel\n",
    "model = ClassificationModel(\n",
    "    \"bert\",\n",
    "    \"bert-base-cased\",\n",
    "    num_labels=5,\n",
    "    args={\"reprocess_input_data\": True, \"overwrite_output_dir\": True},\n",
    "    use_cuda=False\n",
    "    \n",
    ")\n",
    "\n",
    "# Train the model\n",
    "model.train_model(X_train)\n",
    "\n",
    "# Evaluate the model\n",
    "result, model_outputs, wrong_predictions = model.eval_model(X_test)\n",
    "\n",
    "predictions, raw_outputs = model.predict([\"Some arbitary sentence\"])"
   ]
  },
  {
   "cell_type": "code",
   "execution_count": 14,
   "metadata": {},
   "outputs": [],
   "source": [
    "import torch\n",
    "torch.save(model, \"model/bert_model_hausa\")"
   ]
  },
  {
   "cell_type": "code",
   "execution_count": 14,
   "metadata": {},
   "outputs": [],
   "source": [
    "import torch\n",
    "model = torch.load('model/bert_model_hausa')"
   ]
  },
  {
   "cell_type": "code",
   "execution_count": 15,
   "metadata": {},
   "outputs": [
    {
     "data": {
      "application/vnd.jupyter.widget-view+json": {
       "model_id": "ca51fa2be54a4255a696437007f881c5",
       "version_major": 2,
       "version_minor": 0
      },
      "text/plain": [
       "HBox(children=(HTML(value=''), FloatProgress(value=0.0, max=1.0), HTML(value='')))"
      ]
     },
     "metadata": {},
     "output_type": "display_data"
    },
    {
     "name": "stdout",
     "output_type": "stream",
     "text": [
      "\n"
     ]
    },
    {
     "data": {
      "application/vnd.jupyter.widget-view+json": {
       "model_id": "0d45c07bf1d4446ba0f77d02293e3fdd",
       "version_major": 2,
       "version_minor": 0
      },
      "text/plain": [
       "HBox(children=(HTML(value=''), FloatProgress(value=0.0, max=1.0), HTML(value='')))"
      ]
     },
     "metadata": {},
     "output_type": "display_data"
    },
    {
     "name": "stdout",
     "output_type": "stream",
     "text": [
      "\n"
     ]
    }
   ],
   "source": [
    "predictions, raw_outputs = model.predict([\"Some arbitary sentence\"])"
   ]
  },
  {
   "cell_type": "code",
   "execution_count": 17,
   "metadata": {},
   "outputs": [
    {
     "data": {
      "application/vnd.jupyter.widget-view+json": {
       "model_id": "5370ab3287e543a1bce4218962b14da9",
       "version_major": 2,
       "version_minor": 0
      },
      "text/plain": [
       "HBox(children=(HTML(value=''), FloatProgress(value=0.0, max=1167.0), HTML(value='')))"
      ]
     },
     "metadata": {},
     "output_type": "display_data"
    },
    {
     "name": "stdout",
     "output_type": "stream",
     "text": [
      "\n"
     ]
    },
    {
     "data": {
      "application/vnd.jupyter.widget-view+json": {
       "model_id": "8debca87fe904567a70aec10725fa3ed",
       "version_major": 2,
       "version_minor": 0
      },
      "text/plain": [
       "HBox(children=(HTML(value='Running Evaluation'), FloatProgress(value=0.0, max=146.0), HTML(value='')))"
      ]
     },
     "metadata": {},
     "output_type": "display_data"
    },
    {
     "name": "stdout",
     "output_type": "stream",
     "text": [
      "\n"
     ]
    }
   ],
   "source": [
    "result, model_outputs, wrong_predictions = model.eval_model(X_test)"
   ]
  },
  {
   "cell_type": "code",
   "execution_count": 29,
   "metadata": {},
   "outputs": [
    {
     "data": {
      "application/vnd.jupyter.widget-view+json": {
       "model_id": "8bdebfb432074c7b98c652b1dbdee9cf",
       "version_major": 2,
       "version_minor": 0
      },
      "text/plain": [
       "HBox(children=(HTML(value=''), FloatProgress(value=0.0, max=1167.0), HTML(value='')))"
      ]
     },
     "metadata": {},
     "output_type": "display_data"
    },
    {
     "name": "stdout",
     "output_type": "stream",
     "text": [
      "\n"
     ]
    },
    {
     "data": {
      "application/vnd.jupyter.widget-view+json": {
       "model_id": "cf57d9f6557d47169aa9d609d3394b91",
       "version_major": 2,
       "version_minor": 0
      },
      "text/plain": [
       "HBox(children=(HTML(value=''), FloatProgress(value=0.0, max=146.0), HTML(value='')))"
      ]
     },
     "metadata": {},
     "output_type": "display_data"
    },
    {
     "name": "stdout",
     "output_type": "stream",
     "text": [
      "\n"
     ]
    }
   ],
   "source": [
    "a = list(X_test['text'])\n",
    "predictions, raw_outputs = model.predict(a)"
   ]
  },
  {
   "cell_type": "code",
   "execution_count": 30,
   "metadata": {},
   "outputs": [
    {
     "data": {
      "text/plain": [
       "array([2, 1, 0, ..., 1, 2, 1], dtype=int64)"
      ]
     },
     "execution_count": 30,
     "metadata": {},
     "output_type": "execute_result"
    }
   ],
   "source": [
    "predictions"
   ]
  },
  {
   "cell_type": "code",
   "execution_count": 34,
   "metadata": {},
   "outputs": [
    {
     "name": "stdout",
     "output_type": "stream",
     "text": [
      "              precision    recall  f1-score   support\n",
      "\n",
      "           0       0.89      0.78      0.83       260\n",
      "           1       0.81      0.79      0.80       421\n",
      "           2       0.79      0.86      0.82       486\n",
      "\n",
      "    accuracy                           0.82      1167\n",
      "   macro avg       0.83      0.81      0.82      1167\n",
      "weighted avg       0.82      0.82      0.82      1167\n",
      "\n"
     ]
    }
   ],
   "source": [
    "from sklearn.metrics import classification_report\n",
    "\n",
    "print(classification_report(np.array(X_test[\"labels\"]), predictions))"
   ]
  },
  {
   "cell_type": "code",
   "execution_count": null,
   "metadata": {},
   "outputs": [],
   "source": []
  }
 ],
 "metadata": {
  "kernelspec": {
   "display_name": "Python 3",
   "language": "python",
   "name": "python3"
  },
  "language_info": {
   "codemirror_mode": {
    "name": "ipython",
    "version": 3
   },
   "file_extension": ".py",
   "mimetype": "text/x-python",
   "name": "python",
   "nbconvert_exporter": "python",
   "pygments_lexer": "ipython3",
   "version": "3.8.5"
  }
 },
 "nbformat": 4,
 "nbformat_minor": 5
}
