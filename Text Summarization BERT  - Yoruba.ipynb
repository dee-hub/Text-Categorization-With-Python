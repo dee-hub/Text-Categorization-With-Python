{
 "cells": [
  {
   "cell_type": "markdown",
   "metadata": {},
   "source": [
    "## BERT"
   ]
  },
  {
   "cell_type": "code",
   "execution_count": 1,
   "metadata": {},
   "outputs": [
    {
     "name": "stderr",
     "output_type": "stream",
     "text": [
      "C:\\Users\\Dee\\anaconda3\\lib\\site-packages\\gensim\\similarities\\__init__.py:15: UserWarning: The gensim.similarities.levenshtein submodule is disabled, because the optional Levenshtein package <https://pypi.org/project/python-Levenshtein/> is unavailable. Install Levenhstein (e.g. `pip install python-Levenshtein`) to suppress this warning.\n",
      "  warnings.warn(msg)\n"
     ]
    }
   ],
   "source": [
    "import pandas as pd\n",
    "## for data\n",
    "import json\n",
    "import pandas as pd\n",
    "import numpy as np\n",
    "from keras.preprocessing.text import Tokenizer\n",
    "from keras.preprocessing.sequence import pad_sequences\n",
    "from keras.models import Sequential\n",
    "from keras.layers import Embedding, SpatialDropout1D\n",
    "from keras.layers.recurrent import LSTM\n",
    "from keras.layers import Activation, Dense\n",
    "from keras.callbacks import ModelCheckpoint, EarlyStopping\n",
    "## for plotting\n",
    "import matplotlib.pyplot as plt\n",
    "import seaborn as sns\n",
    "\n",
    "## for processing\n",
    "import re\n",
    "import nltk\n",
    "from nltk.tokenize import word_tokenize\n",
    "## for bag-of-words\n",
    "from sklearn import feature_extraction, model_selection, naive_bayes, pipeline, manifold, preprocessing, feature_selection, metrics\n",
    "\n",
    "## for explainer\n",
    "from lime import lime_text\n",
    "\n",
    "## for word embedding\n",
    "import gensim\n",
    "import gensim.downloader as gensim_api\n",
    "\n",
    "## for deep learning\n",
    "from tensorflow.keras import models, layers, preprocessing as kprocessing\n",
    "from tensorflow.keras import backend as K\n",
    "\n",
    "## for bert language model\n",
    "import transformers"
   ]
  },
  {
   "cell_type": "code",
   "execution_count": 2,
   "metadata": {},
   "outputs": [],
   "source": [
    "dtf_new = pd.read_csv(\"data/data_yoruba_cleaned.csv\")"
   ]
  },
  {
   "cell_type": "code",
   "execution_count": 3,
   "metadata": {},
   "outputs": [],
   "source": [
    "dtf_new = dtf_new.rename(columns={'label': 'labels', 'text_clean': 'text'})"
   ]
  },
  {
   "cell_type": "code",
   "execution_count": 4,
   "metadata": {},
   "outputs": [
    {
     "data": {
      "text/html": [
       "<div>\n",
       "<style scoped>\n",
       "    .dataframe tbody tr th:only-of-type {\n",
       "        vertical-align: middle;\n",
       "    }\n",
       "\n",
       "    .dataframe tbody tr th {\n",
       "        vertical-align: top;\n",
       "    }\n",
       "\n",
       "    .dataframe thead th {\n",
       "        text-align: right;\n",
       "    }\n",
       "</style>\n",
       "<table border=\"1\" class=\"dataframe\">\n",
       "  <thead>\n",
       "    <tr style=\"text-align: right;\">\n",
       "      <th></th>\n",
       "      <th>Unnamed: 0</th>\n",
       "      <th>bbc_url_id</th>\n",
       "      <th>date</th>\n",
       "      <th>news_title</th>\n",
       "      <th>labels</th>\n",
       "      <th>text</th>\n",
       "    </tr>\n",
       "  </thead>\n",
       "  <tbody>\n",
       "    <tr>\n",
       "      <th>0</th>\n",
       "      <td>0</td>\n",
       "      <td>49561007</td>\n",
       "      <td>3 Oṣù Owewe 2019</td>\n",
       "      <td>Xenophobic Attack: Awọn ọmọ Nàìjíria tí yarí p...</td>\n",
       "      <td>world</td>\n",
       "      <td>xenophobic attack awọn ọmọ nàìjíria yarí yóò g...</td>\n",
       "    </tr>\n",
       "    <tr>\n",
       "      <th>1</th>\n",
       "      <td>1</td>\n",
       "      <td>47683813</td>\n",
       "      <td>24 Oṣù Ẹrẹ̀nà 2019</td>\n",
       "      <td>Árẹ̀wá: Bákan náà ni a kò fẹ́ Atiku torí dúkìá...</td>\n",
       "      <td>politics</td>\n",
       "      <td>árẹwá bákan fẹ atiku torí dúkìá àjọni tó fẹ tà</td>\n",
       "    </tr>\n",
       "    <tr>\n",
       "      <th>2</th>\n",
       "      <td>2</td>\n",
       "      <td>47375620</td>\n",
       "      <td>27 Oṣù Èrèlè 2019</td>\n",
       "      <td>2019 Election update: Buhari borí; ó di ààrẹ N...</td>\n",
       "      <td>politics</td>\n",
       "      <td>election update buhari borí di ààrẹ nàìjíríà t...</td>\n",
       "    </tr>\n",
       "    <tr>\n",
       "      <th>3</th>\n",
       "      <td>3</td>\n",
       "      <td>51350982</td>\n",
       "      <td>2 Oṣù Èrèlè 2020</td>\n",
       "      <td>Nathaniel Samuel: Ìwádìí tí bẹ̀rẹ̀ lórí afuras...</td>\n",
       "      <td>politics</td>\n",
       "      <td>nathaniel samuel ìwádìí bẹrẹ lórí afurasí tó g...</td>\n",
       "    </tr>\n",
       "    <tr>\n",
       "      <th>4</th>\n",
       "      <td>4</td>\n",
       "      <td>50975898</td>\n",
       "      <td>4 Oṣù Ṣẹ́rẹ́ 2020</td>\n",
       "      <td>Yoruba Film: Ṣé ẹ máa wá ní Pasuma ni mo bí àw...</td>\n",
       "      <td>entertainment</td>\n",
       "      <td>yoruba film ẹ pasuma ọmọ tó kuti jaiye</td>\n",
       "    </tr>\n",
       "    <tr>\n",
       "      <th>...</th>\n",
       "      <td>...</td>\n",
       "      <td>...</td>\n",
       "      <td>...</td>\n",
       "      <td>...</td>\n",
       "      <td>...</td>\n",
       "      <td>...</td>\n",
       "    </tr>\n",
       "    <tr>\n",
       "      <th>1903</th>\n",
       "      <td>184</td>\n",
       "      <td>49136947</td>\n",
       "      <td>27 Oṣù Agẹmọ 2019</td>\n",
       "      <td>Shiite Movement: Shiite fèsì lórí àṣẹ ilé ẹjọ́...</td>\n",
       "      <td>politics</td>\n",
       "      <td>shiite movement shiite fèsì lórí àṣẹ ilé ẹjọ ẹ...</td>\n",
       "    </tr>\n",
       "    <tr>\n",
       "      <th>1904</th>\n",
       "      <td>185</td>\n",
       "      <td>48594443</td>\n",
       "      <td>11 Oṣù Òkúdu 2019</td>\n",
       "      <td>9th Assembly: PDP ní láìpẹ́ làwọn aráàlú yóò m...</td>\n",
       "      <td>politics</td>\n",
       "      <td>9th assembly pdp láìpẹ làwọn aráàlú yóò mọ ìyà...</td>\n",
       "    </tr>\n",
       "    <tr>\n",
       "      <th>1905</th>\n",
       "      <td>186</td>\n",
       "      <td>46908855</td>\n",
       "      <td>17 Oṣù Ṣẹ́rẹ́ 2019</td>\n",
       "      <td>Adekunle Gold: Ọdún márùn ún ni mo fi mọ Simi ...</td>\n",
       "      <td>entertainment</td>\n",
       "      <td>adekunle gold ọdún márùn ún fi mọ simi ká tó ṣ...</td>\n",
       "    </tr>\n",
       "    <tr>\n",
       "      <th>1906</th>\n",
       "      <td>187</td>\n",
       "      <td>51094629</td>\n",
       "      <td>14 Oṣù Ṣẹ́rẹ́ 2020</td>\n",
       "      <td>Biafra at 50: Ọ̀nà tí ẹja panla gbà di gbajúgb...</td>\n",
       "      <td>politics</td>\n",
       "      <td>biafra at ọnà ẹja panla gbà di gbajúgbajà nínú...</td>\n",
       "    </tr>\n",
       "    <tr>\n",
       "      <th>1907</th>\n",
       "      <td>188</td>\n",
       "      <td>50038428</td>\n",
       "      <td>14 Oṣù Ọ̀wàrà 2019</td>\n",
       "      <td>Death at Airport: Ọkùnrin kan jáde láyé bó ṣe ...</td>\n",
       "      <td>politics</td>\n",
       "      <td>death at airport ọkùnrin jáde láyé bó gba ìròy...</td>\n",
       "    </tr>\n",
       "  </tbody>\n",
       "</table>\n",
       "<p>1908 rows × 6 columns</p>\n",
       "</div>"
      ],
      "text/plain": [
       "      Unnamed: 0  bbc_url_id                date  \\\n",
       "0              0    49561007    3 Oṣù Owewe 2019   \n",
       "1              1    47683813  24 Oṣù Ẹrẹ̀nà 2019   \n",
       "2              2    47375620   27 Oṣù Èrèlè 2019   \n",
       "3              3    51350982    2 Oṣù Èrèlè 2020   \n",
       "4              4    50975898   4 Oṣù Ṣẹ́rẹ́ 2020   \n",
       "...          ...         ...                 ...   \n",
       "1903         184    49136947   27 Oṣù Agẹmọ 2019   \n",
       "1904         185    48594443   11 Oṣù Òkúdu 2019   \n",
       "1905         186    46908855  17 Oṣù Ṣẹ́rẹ́ 2019   \n",
       "1906         187    51094629  14 Oṣù Ṣẹ́rẹ́ 2020   \n",
       "1907         188    50038428  14 Oṣù Ọ̀wàrà 2019   \n",
       "\n",
       "                                             news_title         labels  \\\n",
       "0     Xenophobic Attack: Awọn ọmọ Nàìjíria tí yarí p...          world   \n",
       "1     Árẹ̀wá: Bákan náà ni a kò fẹ́ Atiku torí dúkìá...       politics   \n",
       "2     2019 Election update: Buhari borí; ó di ààrẹ N...       politics   \n",
       "3     Nathaniel Samuel: Ìwádìí tí bẹ̀rẹ̀ lórí afuras...       politics   \n",
       "4     Yoruba Film: Ṣé ẹ máa wá ní Pasuma ni mo bí àw...  entertainment   \n",
       "...                                                 ...            ...   \n",
       "1903  Shiite Movement: Shiite fèsì lórí àṣẹ ilé ẹjọ́...       politics   \n",
       "1904  9th Assembly: PDP ní láìpẹ́ làwọn aráàlú yóò m...       politics   \n",
       "1905  Adekunle Gold: Ọdún márùn ún ni mo fi mọ Simi ...  entertainment   \n",
       "1906  Biafra at 50: Ọ̀nà tí ẹja panla gbà di gbajúgb...       politics   \n",
       "1907  Death at Airport: Ọkùnrin kan jáde láyé bó ṣe ...       politics   \n",
       "\n",
       "                                                   text  \n",
       "0     xenophobic attack awọn ọmọ nàìjíria yarí yóò g...  \n",
       "1        árẹwá bákan fẹ atiku torí dúkìá àjọni tó fẹ tà  \n",
       "2     election update buhari borí di ààrẹ nàìjíríà t...  \n",
       "3     nathaniel samuel ìwádìí bẹrẹ lórí afurasí tó g...  \n",
       "4                yoruba film ẹ pasuma ọmọ tó kuti jaiye  \n",
       "...                                                 ...  \n",
       "1903  shiite movement shiite fèsì lórí àṣẹ ilé ẹjọ ẹ...  \n",
       "1904  9th assembly pdp láìpẹ làwọn aráàlú yóò mọ ìyà...  \n",
       "1905  adekunle gold ọdún márùn ún fi mọ simi ká tó ṣ...  \n",
       "1906  biafra at ọnà ẹja panla gbà di gbajúgbajà nínú...  \n",
       "1907  death at airport ọkùnrin jáde láyé bó gba ìròy...  \n",
       "\n",
       "[1908 rows x 6 columns]"
      ]
     },
     "execution_count": 4,
     "metadata": {},
     "output_type": "execute_result"
    }
   ],
   "source": [
    "dtf_new"
   ]
  },
  {
   "cell_type": "code",
   "execution_count": 5,
   "metadata": {},
   "outputs": [],
   "source": [
    "data = dtf_new.drop([\"date\", \"bbc_url_id\", \"Unnamed: 0\", \"news_title\"], axis=1)"
   ]
  },
  {
   "cell_type": "code",
   "execution_count": 6,
   "metadata": {},
   "outputs": [
    {
     "data": {
      "text/html": [
       "<div>\n",
       "<style scoped>\n",
       "    .dataframe tbody tr th:only-of-type {\n",
       "        vertical-align: middle;\n",
       "    }\n",
       "\n",
       "    .dataframe tbody tr th {\n",
       "        vertical-align: top;\n",
       "    }\n",
       "\n",
       "    .dataframe thead th {\n",
       "        text-align: right;\n",
       "    }\n",
       "</style>\n",
       "<table border=\"1\" class=\"dataframe\">\n",
       "  <thead>\n",
       "    <tr style=\"text-align: right;\">\n",
       "      <th></th>\n",
       "      <th>labels</th>\n",
       "      <th>text</th>\n",
       "    </tr>\n",
       "  </thead>\n",
       "  <tbody>\n",
       "    <tr>\n",
       "      <th>0</th>\n",
       "      <td>world</td>\n",
       "      <td>xenophobic attack awọn ọmọ nàìjíria yarí yóò g...</td>\n",
       "    </tr>\n",
       "    <tr>\n",
       "      <th>1</th>\n",
       "      <td>politics</td>\n",
       "      <td>árẹwá bákan fẹ atiku torí dúkìá àjọni tó fẹ tà</td>\n",
       "    </tr>\n",
       "    <tr>\n",
       "      <th>2</th>\n",
       "      <td>politics</td>\n",
       "      <td>election update buhari borí di ààrẹ nàìjíríà t...</td>\n",
       "    </tr>\n",
       "    <tr>\n",
       "      <th>3</th>\n",
       "      <td>politics</td>\n",
       "      <td>nathaniel samuel ìwádìí bẹrẹ lórí afurasí tó g...</td>\n",
       "    </tr>\n",
       "    <tr>\n",
       "      <th>4</th>\n",
       "      <td>entertainment</td>\n",
       "      <td>yoruba film ẹ pasuma ọmọ tó kuti jaiye</td>\n",
       "    </tr>\n",
       "    <tr>\n",
       "      <th>...</th>\n",
       "      <td>...</td>\n",
       "      <td>...</td>\n",
       "    </tr>\n",
       "    <tr>\n",
       "      <th>1903</th>\n",
       "      <td>politics</td>\n",
       "      <td>shiite movement shiite fèsì lórí àṣẹ ilé ẹjọ ẹ...</td>\n",
       "    </tr>\n",
       "    <tr>\n",
       "      <th>1904</th>\n",
       "      <td>politics</td>\n",
       "      <td>9th assembly pdp láìpẹ làwọn aráàlú yóò mọ ìyà...</td>\n",
       "    </tr>\n",
       "    <tr>\n",
       "      <th>1905</th>\n",
       "      <td>entertainment</td>\n",
       "      <td>adekunle gold ọdún márùn ún fi mọ simi ká tó ṣ...</td>\n",
       "    </tr>\n",
       "    <tr>\n",
       "      <th>1906</th>\n",
       "      <td>politics</td>\n",
       "      <td>biafra at ọnà ẹja panla gbà di gbajúgbajà nínú...</td>\n",
       "    </tr>\n",
       "    <tr>\n",
       "      <th>1907</th>\n",
       "      <td>politics</td>\n",
       "      <td>death at airport ọkùnrin jáde láyé bó gba ìròy...</td>\n",
       "    </tr>\n",
       "  </tbody>\n",
       "</table>\n",
       "<p>1908 rows × 2 columns</p>\n",
       "</div>"
      ],
      "text/plain": [
       "             labels                                               text\n",
       "0             world  xenophobic attack awọn ọmọ nàìjíria yarí yóò g...\n",
       "1          politics     árẹwá bákan fẹ atiku torí dúkìá àjọni tó fẹ tà\n",
       "2          politics  election update buhari borí di ààrẹ nàìjíríà t...\n",
       "3          politics  nathaniel samuel ìwádìí bẹrẹ lórí afurasí tó g...\n",
       "4     entertainment             yoruba film ẹ pasuma ọmọ tó kuti jaiye\n",
       "...             ...                                                ...\n",
       "1903       politics  shiite movement shiite fèsì lórí àṣẹ ilé ẹjọ ẹ...\n",
       "1904       politics  9th assembly pdp láìpẹ làwọn aráàlú yóò mọ ìyà...\n",
       "1905  entertainment  adekunle gold ọdún márùn ún fi mọ simi ká tó ṣ...\n",
       "1906       politics  biafra at ọnà ẹja panla gbà di gbajúgbajà nínú...\n",
       "1907       politics  death at airport ọkùnrin jáde láyé bó gba ìròy...\n",
       "\n",
       "[1908 rows x 2 columns]"
      ]
     },
     "execution_count": 6,
     "metadata": {},
     "output_type": "execute_result"
    }
   ],
   "source": [
    "data"
   ]
  },
  {
   "cell_type": "code",
   "execution_count": 7,
   "metadata": {},
   "outputs": [],
   "source": [
    "from sklearn.preprocessing import LabelEncoder\n",
    "\n",
    "lb = LabelEncoder()\n",
    "data[\"labels\"] = lb.fit_transform(dtf_new[\"labels\"])"
   ]
  },
  {
   "cell_type": "code",
   "execution_count": 8,
   "metadata": {},
   "outputs": [
    {
     "data": {
      "text/html": [
       "<div>\n",
       "<style scoped>\n",
       "    .dataframe tbody tr th:only-of-type {\n",
       "        vertical-align: middle;\n",
       "    }\n",
       "\n",
       "    .dataframe tbody tr th {\n",
       "        vertical-align: top;\n",
       "    }\n",
       "\n",
       "    .dataframe thead th {\n",
       "        text-align: right;\n",
       "    }\n",
       "</style>\n",
       "<table border=\"1\" class=\"dataframe\">\n",
       "  <thead>\n",
       "    <tr style=\"text-align: right;\">\n",
       "      <th></th>\n",
       "      <th>labels</th>\n",
       "      <th>text</th>\n",
       "    </tr>\n",
       "  </thead>\n",
       "  <tbody>\n",
       "    <tr>\n",
       "      <th>0</th>\n",
       "      <td>4</td>\n",
       "      <td>xenophobic attack awọn ọmọ nàìjíria yarí yóò g...</td>\n",
       "    </tr>\n",
       "    <tr>\n",
       "      <th>1</th>\n",
       "      <td>2</td>\n",
       "      <td>árẹwá bákan fẹ atiku torí dúkìá àjọni tó fẹ tà</td>\n",
       "    </tr>\n",
       "    <tr>\n",
       "      <th>2</th>\n",
       "      <td>2</td>\n",
       "      <td>election update buhari borí di ààrẹ nàìjíríà t...</td>\n",
       "    </tr>\n",
       "    <tr>\n",
       "      <th>3</th>\n",
       "      <td>2</td>\n",
       "      <td>nathaniel samuel ìwádìí bẹrẹ lórí afurasí tó g...</td>\n",
       "    </tr>\n",
       "    <tr>\n",
       "      <th>4</th>\n",
       "      <td>0</td>\n",
       "      <td>yoruba film ẹ pasuma ọmọ tó kuti jaiye</td>\n",
       "    </tr>\n",
       "    <tr>\n",
       "      <th>...</th>\n",
       "      <td>...</td>\n",
       "      <td>...</td>\n",
       "    </tr>\n",
       "    <tr>\n",
       "      <th>1903</th>\n",
       "      <td>2</td>\n",
       "      <td>shiite movement shiite fèsì lórí àṣẹ ilé ẹjọ ẹ...</td>\n",
       "    </tr>\n",
       "    <tr>\n",
       "      <th>1904</th>\n",
       "      <td>2</td>\n",
       "      <td>9th assembly pdp láìpẹ làwọn aráàlú yóò mọ ìyà...</td>\n",
       "    </tr>\n",
       "    <tr>\n",
       "      <th>1905</th>\n",
       "      <td>0</td>\n",
       "      <td>adekunle gold ọdún márùn ún fi mọ simi ká tó ṣ...</td>\n",
       "    </tr>\n",
       "    <tr>\n",
       "      <th>1906</th>\n",
       "      <td>2</td>\n",
       "      <td>biafra at ọnà ẹja panla gbà di gbajúgbajà nínú...</td>\n",
       "    </tr>\n",
       "    <tr>\n",
       "      <th>1907</th>\n",
       "      <td>2</td>\n",
       "      <td>death at airport ọkùnrin jáde láyé bó gba ìròy...</td>\n",
       "    </tr>\n",
       "  </tbody>\n",
       "</table>\n",
       "<p>1908 rows × 2 columns</p>\n",
       "</div>"
      ],
      "text/plain": [
       "      labels                                               text\n",
       "0          4  xenophobic attack awọn ọmọ nàìjíria yarí yóò g...\n",
       "1          2     árẹwá bákan fẹ atiku torí dúkìá àjọni tó fẹ tà\n",
       "2          2  election update buhari borí di ààrẹ nàìjíríà t...\n",
       "3          2  nathaniel samuel ìwádìí bẹrẹ lórí afurasí tó g...\n",
       "4          0             yoruba film ẹ pasuma ọmọ tó kuti jaiye\n",
       "...      ...                                                ...\n",
       "1903       2  shiite movement shiite fèsì lórí àṣẹ ilé ẹjọ ẹ...\n",
       "1904       2  9th assembly pdp láìpẹ làwọn aráàlú yóò mọ ìyà...\n",
       "1905       0  adekunle gold ọdún márùn ún fi mọ simi ká tó ṣ...\n",
       "1906       2  biafra at ọnà ẹja panla gbà di gbajúgbajà nínú...\n",
       "1907       2  death at airport ọkùnrin jáde láyé bó gba ìròy...\n",
       "\n",
       "[1908 rows x 2 columns]"
      ]
     },
     "execution_count": 8,
     "metadata": {},
     "output_type": "execute_result"
    }
   ],
   "source": [
    "data"
   ]
  },
  {
   "cell_type": "code",
   "execution_count": 9,
   "metadata": {},
   "outputs": [
    {
     "data": {
      "text/plain": [
       "array(['entertainment', 'health', 'politics', 'sport', 'world'],\n",
       "      dtype=object)"
      ]
     },
     "execution_count": 9,
     "metadata": {},
     "output_type": "execute_result"
    }
   ],
   "source": [
    "lb.classes_"
   ]
  },
  {
   "cell_type": "code",
   "execution_count": 10,
   "metadata": {},
   "outputs": [
    {
     "data": {
      "text/plain": [
       "0       4\n",
       "1       2\n",
       "2       2\n",
       "3       2\n",
       "4       0\n",
       "       ..\n",
       "1903    2\n",
       "1904    2\n",
       "1905    0\n",
       "1906    2\n",
       "1907    2\n",
       "Name: labels, Length: 1908, dtype: int32"
      ]
     },
     "execution_count": 10,
     "metadata": {},
     "output_type": "execute_result"
    }
   ],
   "source": [
    "data['labels']"
   ]
  },
  {
   "cell_type": "code",
   "execution_count": 11,
   "metadata": {},
   "outputs": [],
   "source": [
    "X = data"
   ]
  },
  {
   "cell_type": "code",
   "execution_count": 12,
   "metadata": {},
   "outputs": [
    {
     "name": "stdout",
     "output_type": "stream",
     "text": [
      "(954, 2)\n",
      "(954, 2)\n"
     ]
    }
   ],
   "source": [
    "X_train, X_test = model_selection.train_test_split(X, test_size = 0.50, random_state = 12)\n",
    "print(X_train.shape)\n",
    "print(X_test.shape)"
   ]
  },
  {
   "cell_type": "code",
   "execution_count": 13,
   "metadata": {},
   "outputs": [
    {
     "name": "stderr",
     "output_type": "stream",
     "text": [
      "Some weights of the model checkpoint at bert-base-cased were not used when initializing BertForSequenceClassification: ['cls.predictions.transform.dense.weight', 'cls.predictions.bias', 'cls.predictions.transform.LayerNorm.weight', 'cls.seq_relationship.weight', 'cls.predictions.transform.LayerNorm.bias', 'cls.predictions.decoder.weight', 'cls.seq_relationship.bias', 'cls.predictions.transform.dense.bias']\n",
      "- This IS expected if you are initializing BertForSequenceClassification from the checkpoint of a model trained on another task or with another architecture (e.g. initializing a BertForSequenceClassification model from a BertForPreTraining model).\n",
      "- This IS NOT expected if you are initializing BertForSequenceClassification from the checkpoint of a model that you expect to be exactly identical (initializing a BertForSequenceClassification model from a BertForSequenceClassification model).\n",
      "Some weights of BertForSequenceClassification were not initialized from the model checkpoint at bert-base-cased and are newly initialized: ['classifier.bias', 'classifier.weight']\n",
      "You should probably TRAIN this model on a down-stream task to be able to use it for predictions and inference.\n"
     ]
    },
    {
     "data": {
      "application/vnd.jupyter.widget-view+json": {
       "model_id": "a31eb14983ed4bb1949eb59a515ecdba",
       "version_major": 2,
       "version_minor": 0
      },
      "text/plain": [
       "HBox(children=(HTML(value=''), FloatProgress(value=0.0, max=954.0), HTML(value='')))"
      ]
     },
     "metadata": {},
     "output_type": "display_data"
    },
    {
     "name": "stdout",
     "output_type": "stream",
     "text": [
      "\n"
     ]
    },
    {
     "data": {
      "application/vnd.jupyter.widget-view+json": {
       "model_id": "4405bfbe60be4033b87e9a3c68df2f33",
       "version_major": 2,
       "version_minor": 0
      },
      "text/plain": [
       "HBox(children=(HTML(value='Epoch'), FloatProgress(value=0.0, max=1.0), HTML(value='')))"
      ]
     },
     "metadata": {},
     "output_type": "display_data"
    },
    {
     "data": {
      "application/vnd.jupyter.widget-view+json": {
       "model_id": "14012249aebd43a38012118a9177f683",
       "version_major": 2,
       "version_minor": 0
      },
      "text/plain": [
       "HBox(children=(HTML(value='Running Epoch 0 of 1'), FloatProgress(value=0.0, max=120.0), HTML(value='')))"
      ]
     },
     "metadata": {},
     "output_type": "display_data"
    },
    {
     "name": "stdout",
     "output_type": "stream",
     "text": [
      "\n",
      "\n"
     ]
    },
    {
     "data": {
      "application/vnd.jupyter.widget-view+json": {
       "model_id": "4e99171d1b5d408084b61d039e97975e",
       "version_major": 2,
       "version_minor": 0
      },
      "text/plain": [
       "HBox(children=(HTML(value=''), FloatProgress(value=0.0, max=954.0), HTML(value='')))"
      ]
     },
     "metadata": {},
     "output_type": "display_data"
    },
    {
     "name": "stdout",
     "output_type": "stream",
     "text": [
      "\n"
     ]
    },
    {
     "data": {
      "application/vnd.jupyter.widget-view+json": {
       "model_id": "d95e294f3b48413a877990fefb4b2b2c",
       "version_major": 2,
       "version_minor": 0
      },
      "text/plain": [
       "HBox(children=(HTML(value='Running Evaluation'), FloatProgress(value=0.0, max=120.0), HTML(value='')))"
      ]
     },
     "metadata": {},
     "output_type": "display_data"
    },
    {
     "name": "stdout",
     "output_type": "stream",
     "text": [
      "\n"
     ]
    },
    {
     "name": "stderr",
     "output_type": "stream",
     "text": [
      "C:\\Users\\Dee\\anaconda3\\lib\\site-packages\\sklearn\\metrics\\_classification.py:846: RuntimeWarning: invalid value encountered in double_scalars\n",
      "  mcc = cov_ytyp / np.sqrt(cov_ytyt * cov_ypyp)\n"
     ]
    }
   ],
   "source": [
    "import pandas as pd\n",
    "\n",
    "from simpletransformers.classification import ClassificationModel\n",
    "\n",
    "# Train and Evaluation data needs to be in a Pandas Dataframe containing at least two columns. \n",
    "#If the Dataframe has a header, it should contain a 'text' and a 'labels' column. \n",
    "#If no header is present, the Dataframe should contain at least two columns, \n",
    "#with the first column is the text with type str, and the second column in the label with type int.\n",
    "train_data = [\n",
    "    [\"Example sentence belonging to class 1\", 1],\n",
    "    [\"Example sentence belonging to class 0\", 0],\n",
    "    [\"Example eval senntence belonging to class 2\", 2],\n",
    "]\n",
    "train_df = pd.DataFrame(train_data)\n",
    "\n",
    "eval_data = [\n",
    "    [\"Example eval sentence belonging to class 1\", 1],\n",
    "    [\"Example eval sentence belonging to class 0\", 0],\n",
    "    [\"Example eval senntence belonging to class 2\", 2],\n",
    "]\n",
    "eval_df = pd.DataFrame(eval_data)\n",
    "\n",
    "# Create a ClassificationModel\n",
    "#model = ClassificationModel(\n",
    " #   \"bert\",\n",
    "  #  \"bert-base-cased\",\n",
    "  #  num_labels=5,\n",
    "  #  args={\"reprocess_input_data\": True, \"overwrite_output_dir\": True},\n",
    "  #  use_cuda=False\n",
    "    \n",
    "#)\n",
    "\n",
    "model = ClassificationModel(\n",
    "    \"bert\",\n",
    "    \"bert-base-cased\",\n",
    "    num_labels=5,\n",
    "    args={\"reprocess_input_data\": True, \"overwrite_output_dir\": True},\n",
    "    use_cuda=False\n",
    "    \n",
    ")\n",
    "\n",
    "# Train the model\n",
    "model.train_model(X_train)\n",
    "\n",
    "# Evaluate the model\n",
    "result, model_outputs, wrong_predictions = model.eval_model(X_test)"
   ]
  },
  {
   "cell_type": "code",
   "execution_count": 14,
   "metadata": {},
   "outputs": [],
   "source": [
    "import torch\n",
    "torch.save(model, \"model/bert_model_yoruba\")"
   ]
  },
  {
   "cell_type": "code",
   "execution_count": 15,
   "metadata": {},
   "outputs": [],
   "source": [
    "import torch\n",
    "model = torch.load('model/bert_model_yoruba')"
   ]
  },
  {
   "cell_type": "code",
   "execution_count": 16,
   "metadata": {},
   "outputs": [
    {
     "data": {
      "application/vnd.jupyter.widget-view+json": {
       "model_id": "c3f8e012b1ea49f0902837f9fcaeeb74",
       "version_major": 2,
       "version_minor": 0
      },
      "text/plain": [
       "HBox(children=(HTML(value=''), FloatProgress(value=0.0, max=1.0), HTML(value='')))"
      ]
     },
     "metadata": {},
     "output_type": "display_data"
    },
    {
     "name": "stdout",
     "output_type": "stream",
     "text": [
      "\n"
     ]
    },
    {
     "data": {
      "application/vnd.jupyter.widget-view+json": {
       "model_id": "25b6adda96564732927306d7bd2523c7",
       "version_major": 2,
       "version_minor": 0
      },
      "text/plain": [
       "HBox(children=(HTML(value=''), FloatProgress(value=0.0, max=1.0), HTML(value='')))"
      ]
     },
     "metadata": {},
     "output_type": "display_data"
    },
    {
     "name": "stdout",
     "output_type": "stream",
     "text": [
      "\n"
     ]
    }
   ],
   "source": [
    "predictions, raw_outputs = model.predict([\"Some arbitary sentence\"])"
   ]
  },
  {
   "cell_type": "code",
   "execution_count": 17,
   "metadata": {},
   "outputs": [
    {
     "data": {
      "text/plain": [
       "array([[ 0.09155511, -0.48879486,  1.01875508, -0.8865453 ,  0.13150549]])"
      ]
     },
     "execution_count": 17,
     "metadata": {},
     "output_type": "execute_result"
    }
   ],
   "source": [
    "raw_outputs"
   ]
  },
  {
   "cell_type": "code",
   "execution_count": 21,
   "metadata": {},
   "outputs": [
    {
     "data": {
      "text/plain": [
       "array([[ 0.17233548, -0.59962738,  1.31216097, -0.94501436,  0.03234424],\n",
       "       [ 0.16580307, -0.30738944,  1.21619701, -0.87827551,  0.029895  ],\n",
       "       [ 0.27581298, -0.77012068,  1.40519524, -1.09593832,  0.02979188],\n",
       "       ...,\n",
       "       [ 0.17015244, -0.95915449,  1.75006032, -1.40330458, -0.14212191],\n",
       "       [-0.03187372, -1.0282768 ,  1.88639092, -1.51467156, -0.28656393],\n",
       "       [ 0.25801969, -1.07522094,  1.82083869, -1.51858115, -0.18404678]])"
      ]
     },
     "execution_count": 21,
     "metadata": {},
     "output_type": "execute_result"
    }
   ],
   "source": [
    "model_outputs"
   ]
  },
  {
   "cell_type": "code",
   "execution_count": 25,
   "metadata": {},
   "outputs": [
    {
     "data": {
      "application/vnd.jupyter.widget-view+json": {
       "model_id": "d1773b3f9447400da7064eb8d5b776e8",
       "version_major": 2,
       "version_minor": 0
      },
      "text/plain": [
       "HBox(children=(HTML(value=''), FloatProgress(value=0.0, max=20.0), HTML(value='')))"
      ]
     },
     "metadata": {},
     "output_type": "display_data"
    },
    {
     "name": "stdout",
     "output_type": "stream",
     "text": [
      "\n"
     ]
    },
    {
     "data": {
      "application/vnd.jupyter.widget-view+json": {
       "model_id": "af825bab5fcd44508adac8cf9cdda84b",
       "version_major": 2,
       "version_minor": 0
      },
      "text/plain": [
       "HBox(children=(HTML(value=''), FloatProgress(value=0.0, max=3.0), HTML(value='')))"
      ]
     },
     "metadata": {},
     "output_type": "display_data"
    },
    {
     "name": "stdout",
     "output_type": "stream",
     "text": [
      "\n"
     ]
    }
   ],
   "source": [
    "a = list(X_test['text'].iloc[0:20])\n",
    "predictions, raw_outputs = model.predict(a)"
   ]
  },
  {
   "cell_type": "code",
   "execution_count": 26,
   "metadata": {},
   "outputs": [
    {
     "data": {
      "text/plain": [
       "['champion league athletico bomi paná ayọ juventus ìpadàbọ ronaldo ìlú madrid',\n",
       " 'coronavirus àjọ tó rí ìwọléwọde sáàyè fẹnikẹni tó láárùn yí wọlé nàìjíríà',\n",
       " 'bbc africa eye ìyá rántí ikú rẹ lásìkò ìrọbí àìbímọ tèmí pa mí kú díẹdíẹ',\n",
       " 'nigeria election canada yá ọnà mì tọmọ nàìjíríá fi bínú sísún ìdìbò',\n",
       " 'xenophobia ọsẹ tó bọ bàálù yóò kó ọmọ nàíjíríà wálé',\n",
       " 'premier league liverpool to ọrẹ ẹyìn manchester united pẹlú àmì ayò méjì òdo',\n",
       " 'adewale ayuba ogun ja àgbo fújì jà',\n",
       " 'omoyele sowore fi ṣowore sílé tó pẹjù tàbí ṣewọn',\n",
       " 'guru maharaji yẹ ìjọba àpapọ fíkún owó oṣù òṣìṣẹ adájọ',\n",
       " 'lady jibowu ẹni ọdún ló dágbére fáyé dìgbóṣe',\n",
       " 'hijab crisis fásitì ibadan ohun tó yípadà pẹlú ìwọṣọ akẹkọọ isi',\n",
       " 'ibadan ìdàrúdàpọ wáyé láàrin ọlọjà yoruba igbo ipò lọjà ògùnpa',\n",
       " 'xenophobia attack ilẹ south afrika gbàgbé nàìjíríà àtìlẹyìn',\n",
       " 'tanker accident ọpọ èèyàn tó sẹnu iṣẹ okoòwò ló tàn sílẹ',\n",
       " 'nlc ìpàdé ọjọ ajé yóò sọ bóyá á yansẹ lódì',\n",
       " 'eidel kabir aisha buhari hajj pẹlú ìyàwó ààrẹ niger senegal gambia',\n",
       " 'nigeria swearing in kà nípa gómìnà tuntun kwara',\n",
       " 'nigeria independence day ọmọ nàìjíríà sọ èrò nípa àyájọ òmìnira lórí ayélujára',\n",
       " 'algon oyo ìjọba àlá lásán le è dòhun ìlàkàkà alága apc káńṣù',\n",
       " 'busola dakolo mílíọnù mẹwàá náírà béèrè owó gbà mábínú']"
      ]
     },
     "execution_count": 26,
     "metadata": {},
     "output_type": "execute_result"
    }
   ],
   "source": [
    "a"
   ]
  },
  {
   "cell_type": "code",
   "execution_count": 28,
   "metadata": {},
   "outputs": [
    {
     "name": "stdout",
     "output_type": "stream",
     "text": [
      "              precision    recall  f1-score   support\n",
      "\n",
      "           0       0.00      0.00      0.00         6\n",
      "           1       0.00      0.00      0.00         1\n",
      "           2       0.45      1.00      0.62         9\n",
      "           3       0.00      0.00      0.00         2\n",
      "           4       0.00      0.00      0.00         2\n",
      "\n",
      "    accuracy                           0.45        20\n",
      "   macro avg       0.09      0.20      0.12        20\n",
      "weighted avg       0.20      0.45      0.28        20\n",
      "\n"
     ]
    },
    {
     "name": "stderr",
     "output_type": "stream",
     "text": [
      "C:\\Users\\Dee\\anaconda3\\lib\\site-packages\\sklearn\\metrics\\_classification.py:1221: UndefinedMetricWarning: Precision and F-score are ill-defined and being set to 0.0 in labels with no predicted samples. Use `zero_division` parameter to control this behavior.\n",
      "  _warn_prf(average, modifier, msg_start, len(result))\n"
     ]
    }
   ],
   "source": [
    "from sklearn.metrics import classification_report\n",
    "\n",
    "print(classification_report(np.array(X_test[\"labels\"].iloc[0:20]), predictions))"
   ]
  },
  {
   "cell_type": "code",
   "execution_count": 29,
   "metadata": {},
   "outputs": [
    {
     "data": {
      "text/plain": [
       "array([3, 1, 0, 2, 4, 3, 0, 2, 0, 0, 2, 2, 4, 2, 2, 0, 2, 2, 2, 0, 2, 4,\n",
       "       2, 4, 4, 2, 1, 2, 3, 0, 2, 2, 2, 2, 2, 0, 2, 2, 0, 2, 2, 4, 2, 4,\n",
       "       4, 2, 2, 0, 2, 0, 1, 0, 2, 2, 2, 2, 2, 2, 4, 1, 2, 2, 2, 2, 0, 2,\n",
       "       2, 2, 2, 2, 2, 4, 0, 1, 1, 2, 2, 2, 2, 4, 4, 4, 1, 0, 3, 4, 2, 0,\n",
       "       2, 2, 2, 0, 2, 2, 2, 2, 4, 2, 0, 2, 2, 2, 2, 2, 2, 0, 0, 4, 0, 2,\n",
       "       0, 0, 2, 0, 2, 2, 3, 2, 2, 2, 3, 3, 2, 2, 0, 4, 3, 0, 0, 2, 2, 2,\n",
       "       2, 2, 2, 3, 2, 2, 2, 0, 2, 2, 2, 2, 2, 4, 2, 2, 4, 0, 2, 2, 2, 2,\n",
       "       2, 2, 0, 2, 2, 2, 2, 0, 0, 0, 2, 2, 2, 2, 0, 2, 2, 0, 0, 4, 2, 0,\n",
       "       0, 0, 2, 0, 0, 2, 0, 0, 0, 2, 4, 2, 2, 2, 2, 2, 2, 2, 2, 2, 0, 1,\n",
       "       2, 4, 2, 2, 0, 0, 3, 4, 2, 2, 2, 0, 0, 2, 0, 2, 2, 2, 2, 0, 2, 0,\n",
       "       0, 3, 2, 2, 2, 2, 4, 2, 0, 4, 2, 2, 2, 4, 2, 2, 2, 2, 2, 2, 0, 0,\n",
       "       2, 2, 2, 0, 0, 0, 2, 2, 2, 2, 1, 2, 2, 0, 2, 0, 4, 4, 0, 0, 2, 4,\n",
       "       2, 0, 4, 3, 2, 2, 4, 0, 2, 2, 2, 2, 2, 3, 2, 0, 2, 4, 2, 2, 0, 2,\n",
       "       4, 1, 2, 0, 2, 2, 2, 0, 0, 2, 2, 4, 2, 2, 4, 2, 0, 0, 4, 4, 2, 2,\n",
       "       0, 2, 2, 4, 2, 2, 2, 0, 0, 2, 2, 2, 4, 3, 2, 2, 4, 2, 2, 0, 2, 2,\n",
       "       0, 0, 2, 0, 2, 2, 2, 2, 3, 1, 0, 2, 2, 2, 2, 0, 3, 0, 2, 4, 2, 2,\n",
       "       4, 4, 2, 2, 4, 2, 2, 3, 2, 2, 0, 2, 3, 0, 0, 2, 2, 2, 2, 0, 2, 2,\n",
       "       2, 4, 2, 2, 2, 2, 0, 2, 2, 2, 0, 2, 3, 4, 0, 2, 0, 2, 0, 2, 1, 3,\n",
       "       2, 2, 2, 4, 4, 2, 2, 0, 2, 0, 2, 2, 0, 2, 0, 2, 2, 4, 2, 2, 2, 2,\n",
       "       2, 2, 2, 2, 2, 2, 2, 0, 2, 2, 2, 3, 2, 2, 2, 2, 2, 2, 2, 4, 2, 2,\n",
       "       4, 4, 2, 4, 2, 2, 2, 2, 2, 3, 2, 0, 2, 4, 2, 3, 2, 2, 2, 0, 2, 2,\n",
       "       2, 2, 4, 2, 2, 2, 2, 2, 0, 2, 2, 2, 4, 2, 0, 2, 1, 2, 2, 2, 2, 4,\n",
       "       2, 2, 2, 4, 2, 4, 3, 2, 0, 3, 0, 2, 2, 2, 2, 2, 4, 2, 2, 2, 2, 0,\n",
       "       2, 0, 2, 2, 2, 4, 0, 2, 2, 2, 4, 2, 2, 2, 2, 2, 2, 2, 2, 2, 2, 2,\n",
       "       1, 4, 2, 2, 4, 2, 4, 4, 2, 2, 2, 2, 3, 0, 0, 0, 0, 4, 0, 2, 2, 0,\n",
       "       1, 2, 2, 2, 2, 2, 4, 4, 2, 2, 2, 2, 2, 2, 2, 2, 2, 2, 0, 2, 2, 4,\n",
       "       2, 0, 2, 2, 3, 0, 2, 2, 2, 2, 2, 2, 2, 0, 2, 2, 2, 2, 2, 0, 2, 0,\n",
       "       0, 2, 4, 4, 2, 0, 2, 2, 4, 2, 4, 2, 0, 2, 0, 3, 2, 2, 0, 2, 0, 2,\n",
       "       2, 4, 0, 2, 2, 2, 3, 2, 3, 3, 2, 2, 2, 0, 2, 2, 2, 2, 2, 4, 2, 2,\n",
       "       2, 2, 2, 2, 2, 4, 0, 2, 2, 0, 4, 2, 2, 0, 2, 2, 2, 4, 4, 2, 3, 2,\n",
       "       4, 2, 2, 4, 4, 2, 2, 0, 2, 2, 2, 2, 2, 4, 2, 2, 2, 0, 0, 2, 0, 0,\n",
       "       2, 2, 2, 2, 1, 2, 0, 2, 2, 2, 2, 0, 2, 4, 2, 2, 2, 4, 4, 2, 0, 2,\n",
       "       1, 2, 0, 4, 2, 2, 2, 0, 2, 4, 2, 2, 2, 4, 0, 2, 4, 2, 2, 2, 2, 2,\n",
       "       2, 0, 2, 4, 2, 2, 2, 0, 2, 2, 0, 4, 2, 2, 2, 2, 2, 2, 2, 4, 0, 1,\n",
       "       2, 4, 1, 0, 3, 2, 2, 4, 4, 2, 4, 2, 2, 0, 2, 4, 2, 2, 0, 0, 0, 4,\n",
       "       2, 2, 2, 2, 0, 0, 0, 2, 2, 2, 2, 2, 4, 0, 2, 2, 0, 2, 2, 4, 2, 2,\n",
       "       2, 4, 0, 4, 2, 0, 2, 2, 2, 4, 2, 2, 0, 4, 0, 2, 0, 2, 0, 3, 2, 2,\n",
       "       3, 4, 2, 0, 2, 2, 4, 3, 0, 2, 0, 0, 2, 0, 2, 4, 2, 2, 2, 0, 0, 2,\n",
       "       0, 4, 2, 0, 0, 0, 4, 2, 4, 0, 2, 2, 2, 2, 2, 2, 0, 2, 0, 2, 2, 2,\n",
       "       2, 1, 0, 2, 2, 2, 4, 2, 0, 2, 0, 1, 4, 2, 0, 2, 2, 2, 2, 4, 2, 2,\n",
       "       4, 2, 2, 2, 4, 2, 0, 2, 2, 0, 4, 2, 2, 0, 2, 0, 2, 0, 2, 2, 2, 4,\n",
       "       2, 2, 0, 0, 2, 0, 2, 2, 0, 2, 0, 2, 4, 4, 2, 0, 2, 4, 2, 2, 4, 4,\n",
       "       2, 2, 2, 4, 0, 2, 3, 0, 0, 2, 2, 2, 2, 0, 2, 2, 2, 0, 0, 0, 2, 0,\n",
       "       2, 2, 2, 1, 4, 2, 2, 0])"
      ]
     },
     "execution_count": 29,
     "metadata": {},
     "output_type": "execute_result"
    }
   ],
   "source": [
    "np.array(X_test[\"labels\"])"
   ]
  },
  {
   "cell_type": "code",
   "execution_count": 30,
   "metadata": {},
   "outputs": [
    {
     "data": {
      "text/plain": [
       "array([2, 2, 2, 2, 2, 2, 2, 2, 2, 2, 2, 2, 2, 2, 2, 2, 2, 2, 2, 2],\n",
       "      dtype=int64)"
      ]
     },
     "execution_count": 30,
     "metadata": {},
     "output_type": "execute_result"
    }
   ],
   "source": [
    "predictions"
   ]
  },
  {
   "cell_type": "code",
   "execution_count": 31,
   "metadata": {},
   "outputs": [
    {
     "data": {
      "text/html": [
       "<div>\n",
       "<style scoped>\n",
       "    .dataframe tbody tr th:only-of-type {\n",
       "        vertical-align: middle;\n",
       "    }\n",
       "\n",
       "    .dataframe tbody tr th {\n",
       "        vertical-align: top;\n",
       "    }\n",
       "\n",
       "    .dataframe thead th {\n",
       "        text-align: right;\n",
       "    }\n",
       "</style>\n",
       "<table border=\"1\" class=\"dataframe\">\n",
       "  <thead>\n",
       "    <tr style=\"text-align: right;\">\n",
       "      <th></th>\n",
       "      <th>labels</th>\n",
       "      <th>text</th>\n",
       "    </tr>\n",
       "  </thead>\n",
       "  <tbody>\n",
       "    <tr>\n",
       "      <th>705</th>\n",
       "      <td>2</td>\n",
       "      <td>nkan tó jẹyọ níbi ìfọrọwánilẹnuwò fáwọn tó fẹ ...</td>\n",
       "    </tr>\n",
       "    <tr>\n",
       "      <th>1021</th>\n",
       "      <td>2</td>\n",
       "      <td>ibrahim elzakzaky ṣeésẹ elzakzaky òkè òkun ìtọ...</td>\n",
       "    </tr>\n",
       "    <tr>\n",
       "      <th>1125</th>\n",
       "      <td>0</td>\n",
       "      <td>sugar iléẹjọ afurasí mẹrin mọwọmẹsẹ lórí ikú s...</td>\n",
       "    </tr>\n",
       "    <tr>\n",
       "      <th>229</th>\n",
       "      <td>3</td>\n",
       "      <td>man utd v man city ṣèlẹrí alatilẹyin liverpool...</td>\n",
       "    </tr>\n",
       "    <tr>\n",
       "      <th>793</th>\n",
       "      <td>4</td>\n",
       "      <td>ìròyìn tó ọsẹ àkọkọ amẹríkà dojú ìjà kọ iran ì...</td>\n",
       "    </tr>\n",
       "    <tr>\n",
       "      <th>...</th>\n",
       "      <td>...</td>\n",
       "      <td>...</td>\n",
       "    </tr>\n",
       "    <tr>\n",
       "      <th>1265</th>\n",
       "      <td>4</td>\n",
       "      <td>togo election ààrẹ gnassingbe díje sáà kẹrin b...</td>\n",
       "    </tr>\n",
       "    <tr>\n",
       "      <th>1277</th>\n",
       "      <td>2</td>\n",
       "      <td>nigeria election nọmbà ló le fi iléèṣẹ ológun ...</td>\n",
       "    </tr>\n",
       "    <tr>\n",
       "      <th>1414</th>\n",
       "      <td>2</td>\n",
       "      <td>nan aráàlú se ló yẹ nan bẹbẹ òpin ìyansẹlódì asuu</td>\n",
       "    </tr>\n",
       "    <tr>\n",
       "      <th>1691</th>\n",
       "      <td>2</td>\n",
       "      <td>ekiti election appeal ilé ẹjọ kòtẹmilọrùn dá f...</td>\n",
       "    </tr>\n",
       "    <tr>\n",
       "      <th>1867</th>\n",
       "      <td>0</td>\n",
       "      <td>ìtàn mánigbàgbé lára ọmọọmọ ajayi crowther her...</td>\n",
       "    </tr>\n",
       "  </tbody>\n",
       "</table>\n",
       "<p>954 rows × 2 columns</p>\n",
       "</div>"
      ],
      "text/plain": [
       "      labels                                               text\n",
       "705        2  nkan tó jẹyọ níbi ìfọrọwánilẹnuwò fáwọn tó fẹ ...\n",
       "1021       2  ibrahim elzakzaky ṣeésẹ elzakzaky òkè òkun ìtọ...\n",
       "1125       0  sugar iléẹjọ afurasí mẹrin mọwọmẹsẹ lórí ikú s...\n",
       "229        3  man utd v man city ṣèlẹrí alatilẹyin liverpool...\n",
       "793        4  ìròyìn tó ọsẹ àkọkọ amẹríkà dojú ìjà kọ iran ì...\n",
       "...      ...                                                ...\n",
       "1265       4  togo election ààrẹ gnassingbe díje sáà kẹrin b...\n",
       "1277       2  nigeria election nọmbà ló le fi iléèṣẹ ológun ...\n",
       "1414       2  nan aráàlú se ló yẹ nan bẹbẹ òpin ìyansẹlódì asuu\n",
       "1691       2  ekiti election appeal ilé ẹjọ kòtẹmilọrùn dá f...\n",
       "1867       0  ìtàn mánigbàgbé lára ọmọọmọ ajayi crowther her...\n",
       "\n",
       "[954 rows x 2 columns]"
      ]
     },
     "execution_count": 31,
     "metadata": {},
     "output_type": "execute_result"
    }
   ],
   "source": [
    "X_train"
   ]
  },
  {
   "cell_type": "code",
   "execution_count": null,
   "metadata": {},
   "outputs": [],
   "source": []
  }
 ],
 "metadata": {
  "kernelspec": {
   "display_name": "Python 3",
   "language": "python",
   "name": "python3"
  },
  "language_info": {
   "codemirror_mode": {
    "name": "ipython",
    "version": 3
   },
   "file_extension": ".py",
   "mimetype": "text/x-python",
   "name": "python",
   "nbconvert_exporter": "python",
   "pygments_lexer": "ipython3",
   "version": "3.8.5"
  }
 },
 "nbformat": 4,
 "nbformat_minor": 5
}
